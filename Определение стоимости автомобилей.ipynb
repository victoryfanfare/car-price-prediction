{
 "cells": [
  {
   "cell_type": "markdown",
   "metadata": {},
   "source": [
    "# Определение стоимости автомобилей"
   ]
  },
  {
   "cell_type": "markdown",
   "metadata": {},
   "source": [
    "Сервис по продаже автомобилей с пробегом «Не бит, не крашен» разрабатывает приложение для привлечения новых клиентов. В нём можно быстро узнать рыночную стоимость своего автомобиля. В вашем распоряжении исторические данные: технические характеристики, комплектации и цены автомобилей. Вам нужно построить модель для определения стоимости. \n",
    "\n",
    "Заказчику важны:\n",
    "\n",
    "- качество предсказания;\n",
    "- скорость предсказания;\n",
    "- время обучения."
   ]
  },
  {
   "cell_type": "markdown",
   "metadata": {},
   "source": [
    "## Подготовка данных"
   ]
  },
  {
   "cell_type": "code",
   "execution_count": 1,
   "metadata": {},
   "outputs": [],
   "source": [
    "#пипы\n",
    "!pip install pandas -q\n",
    "!pip install phik -q\n",
    "!pip install matplotlib -q\n",
    "!pip install scikit-learn==1.0.2 -q"
   ]
  },
  {
   "cell_type": "code",
   "execution_count": 79,
   "metadata": {},
   "outputs": [],
   "source": [
    "import pandas as pd  # Работа с табличными данными (DataFrame)\n",
    "import warnings  # Управление предупреждениями\n",
    "warnings.simplefilter(\"ignore\")  # Игнорировать предупреждения\n",
    "import matplotlib.pyplot as plt  # Построение графиков и визуализация\n",
    "import phik  # Библиотека для анализа корреляций (Phi_k coefficient)\n",
    "from phik.report import plot_correlation_matrix  # Визуализация матрицы корреляций\n",
    "from sklearn.model_selection import train_test_split  # Разделение данных на train/test\n",
    "from sklearn.pipeline import Pipeline  # Создание конвейера обработки данных\n",
    "from sklearn.compose import ColumnTransformer  # Преобразование отдельных колонок\n",
    "from sklearn.impute import SimpleImputer  # Заполнение пропущенных значений\n",
    "import numpy as np  # Работа с массивами и математические операции\n",
    "from scipy import stats as st  # Статистические функции и тесты\n",
    "from sklearn.preprocessing import OneHotEncoder, OrdinalEncoder  # Кодирование категориальных переменных\n",
    "from sklearn.preprocessing import StandardScaler, MinMaxScaler  # Масштабирование числовых признаков\n",
    "from sklearn.linear_model import LinearRegression  # Линейная регрессия\n",
    "from sklearn.metrics import mean_squared_error  # Метрика MSE для оценки моделей\n",
    "from sklearn.metrics import make_scorer  # Создание кастомных метрик для оценки\n",
    "from sklearn.model_selection import GridSearchCV, RandomizedSearchCV  # Подбор гиперпараметров\n",
    "from sklearn.tree import DecisionTreeRegressor  # Решающее дерево для регрессии\n",
    "from catboost import CatBoostClassifier  # Градиентный бустинг от CatBoost (классификация)\n",
    "from catboost import CatBoostRegressor, Pool  # Градиентный бустинг от CatBoost (регрессия) и данные для CatBoost\n",
    "import lightgbm as lgb  # Градиентный бустинг от Microsoft (LightGBM)\n",
    "from sklearn.model_selection import cross_val_score  # Кросс-валидация для оценки моделей"
   ]
  },
  {
   "cell_type": "code",
   "execution_count": 80,
   "metadata": {},
   "outputs": [
    {
     "data": {
      "text/html": [
       "<div>\n",
       "<style scoped>\n",
       "    .dataframe tbody tr th:only-of-type {\n",
       "        vertical-align: middle;\n",
       "    }\n",
       "\n",
       "    .dataframe tbody tr th {\n",
       "        vertical-align: top;\n",
       "    }\n",
       "\n",
       "    .dataframe thead th {\n",
       "        text-align: right;\n",
       "    }\n",
       "</style>\n",
       "<table border=\"1\" class=\"dataframe\">\n",
       "  <thead>\n",
       "    <tr style=\"text-align: right;\">\n",
       "      <th></th>\n",
       "      <th>DateCrawled</th>\n",
       "      <th>Price</th>\n",
       "      <th>VehicleType</th>\n",
       "      <th>RegistrationYear</th>\n",
       "      <th>Gearbox</th>\n",
       "      <th>Power</th>\n",
       "      <th>Model</th>\n",
       "      <th>Kilometer</th>\n",
       "      <th>RegistrationMonth</th>\n",
       "      <th>FuelType</th>\n",
       "      <th>Brand</th>\n",
       "      <th>Repaired</th>\n",
       "      <th>DateCreated</th>\n",
       "      <th>NumberOfPictures</th>\n",
       "      <th>PostalCode</th>\n",
       "      <th>LastSeen</th>\n",
       "    </tr>\n",
       "  </thead>\n",
       "  <tbody>\n",
       "    <tr>\n",
       "      <th>0</th>\n",
       "      <td>2016-03-24 11:52:17</td>\n",
       "      <td>480</td>\n",
       "      <td>NaN</td>\n",
       "      <td>1993</td>\n",
       "      <td>manual</td>\n",
       "      <td>0</td>\n",
       "      <td>golf</td>\n",
       "      <td>150000</td>\n",
       "      <td>0</td>\n",
       "      <td>petrol</td>\n",
       "      <td>volkswagen</td>\n",
       "      <td>NaN</td>\n",
       "      <td>2016-03-24</td>\n",
       "      <td>0</td>\n",
       "      <td>70435</td>\n",
       "      <td>2016-04-07 03:16:57</td>\n",
       "    </tr>\n",
       "    <tr>\n",
       "      <th>1</th>\n",
       "      <td>2016-03-24 10:58:45</td>\n",
       "      <td>18300</td>\n",
       "      <td>coupe</td>\n",
       "      <td>2011</td>\n",
       "      <td>manual</td>\n",
       "      <td>190</td>\n",
       "      <td>NaN</td>\n",
       "      <td>125000</td>\n",
       "      <td>5</td>\n",
       "      <td>gasoline</td>\n",
       "      <td>audi</td>\n",
       "      <td>yes</td>\n",
       "      <td>2016-03-24</td>\n",
       "      <td>0</td>\n",
       "      <td>66954</td>\n",
       "      <td>2016-04-07 01:46:50</td>\n",
       "    </tr>\n",
       "    <tr>\n",
       "      <th>2</th>\n",
       "      <td>2016-03-14 12:52:21</td>\n",
       "      <td>9800</td>\n",
       "      <td>suv</td>\n",
       "      <td>2004</td>\n",
       "      <td>auto</td>\n",
       "      <td>163</td>\n",
       "      <td>grand</td>\n",
       "      <td>125000</td>\n",
       "      <td>8</td>\n",
       "      <td>gasoline</td>\n",
       "      <td>jeep</td>\n",
       "      <td>NaN</td>\n",
       "      <td>2016-03-14</td>\n",
       "      <td>0</td>\n",
       "      <td>90480</td>\n",
       "      <td>2016-04-05 12:47:46</td>\n",
       "    </tr>\n",
       "    <tr>\n",
       "      <th>3</th>\n",
       "      <td>2016-03-17 16:54:04</td>\n",
       "      <td>1500</td>\n",
       "      <td>small</td>\n",
       "      <td>2001</td>\n",
       "      <td>manual</td>\n",
       "      <td>75</td>\n",
       "      <td>golf</td>\n",
       "      <td>150000</td>\n",
       "      <td>6</td>\n",
       "      <td>petrol</td>\n",
       "      <td>volkswagen</td>\n",
       "      <td>no</td>\n",
       "      <td>2016-03-17</td>\n",
       "      <td>0</td>\n",
       "      <td>91074</td>\n",
       "      <td>2016-03-17 17:40:17</td>\n",
       "    </tr>\n",
       "    <tr>\n",
       "      <th>4</th>\n",
       "      <td>2016-03-31 17:25:20</td>\n",
       "      <td>3600</td>\n",
       "      <td>small</td>\n",
       "      <td>2008</td>\n",
       "      <td>manual</td>\n",
       "      <td>69</td>\n",
       "      <td>fabia</td>\n",
       "      <td>90000</td>\n",
       "      <td>7</td>\n",
       "      <td>gasoline</td>\n",
       "      <td>skoda</td>\n",
       "      <td>no</td>\n",
       "      <td>2016-03-31</td>\n",
       "      <td>0</td>\n",
       "      <td>60437</td>\n",
       "      <td>2016-04-06 10:17:21</td>\n",
       "    </tr>\n",
       "    <tr>\n",
       "      <th>5</th>\n",
       "      <td>2016-04-04 17:36:23</td>\n",
       "      <td>650</td>\n",
       "      <td>sedan</td>\n",
       "      <td>1995</td>\n",
       "      <td>manual</td>\n",
       "      <td>102</td>\n",
       "      <td>3er</td>\n",
       "      <td>150000</td>\n",
       "      <td>10</td>\n",
       "      <td>petrol</td>\n",
       "      <td>bmw</td>\n",
       "      <td>yes</td>\n",
       "      <td>2016-04-04</td>\n",
       "      <td>0</td>\n",
       "      <td>33775</td>\n",
       "      <td>2016-04-06 19:17:07</td>\n",
       "    </tr>\n",
       "    <tr>\n",
       "      <th>6</th>\n",
       "      <td>2016-04-01 20:48:51</td>\n",
       "      <td>2200</td>\n",
       "      <td>convertible</td>\n",
       "      <td>2004</td>\n",
       "      <td>manual</td>\n",
       "      <td>109</td>\n",
       "      <td>2_reihe</td>\n",
       "      <td>150000</td>\n",
       "      <td>8</td>\n",
       "      <td>petrol</td>\n",
       "      <td>peugeot</td>\n",
       "      <td>no</td>\n",
       "      <td>2016-04-01</td>\n",
       "      <td>0</td>\n",
       "      <td>67112</td>\n",
       "      <td>2016-04-05 18:18:39</td>\n",
       "    </tr>\n",
       "    <tr>\n",
       "      <th>7</th>\n",
       "      <td>2016-03-21 18:54:38</td>\n",
       "      <td>0</td>\n",
       "      <td>sedan</td>\n",
       "      <td>1980</td>\n",
       "      <td>manual</td>\n",
       "      <td>50</td>\n",
       "      <td>other</td>\n",
       "      <td>40000</td>\n",
       "      <td>7</td>\n",
       "      <td>petrol</td>\n",
       "      <td>volkswagen</td>\n",
       "      <td>no</td>\n",
       "      <td>2016-03-21</td>\n",
       "      <td>0</td>\n",
       "      <td>19348</td>\n",
       "      <td>2016-03-25 16:47:58</td>\n",
       "    </tr>\n",
       "    <tr>\n",
       "      <th>8</th>\n",
       "      <td>2016-04-04 23:42:13</td>\n",
       "      <td>14500</td>\n",
       "      <td>bus</td>\n",
       "      <td>2014</td>\n",
       "      <td>manual</td>\n",
       "      <td>125</td>\n",
       "      <td>c_max</td>\n",
       "      <td>30000</td>\n",
       "      <td>8</td>\n",
       "      <td>petrol</td>\n",
       "      <td>ford</td>\n",
       "      <td>NaN</td>\n",
       "      <td>2016-04-04</td>\n",
       "      <td>0</td>\n",
       "      <td>94505</td>\n",
       "      <td>2016-04-04 23:42:13</td>\n",
       "    </tr>\n",
       "    <tr>\n",
       "      <th>9</th>\n",
       "      <td>2016-03-17 10:53:50</td>\n",
       "      <td>999</td>\n",
       "      <td>small</td>\n",
       "      <td>1998</td>\n",
       "      <td>manual</td>\n",
       "      <td>101</td>\n",
       "      <td>golf</td>\n",
       "      <td>150000</td>\n",
       "      <td>0</td>\n",
       "      <td>NaN</td>\n",
       "      <td>volkswagen</td>\n",
       "      <td>NaN</td>\n",
       "      <td>2016-03-17</td>\n",
       "      <td>0</td>\n",
       "      <td>27472</td>\n",
       "      <td>2016-03-31 17:17:06</td>\n",
       "    </tr>\n",
       "  </tbody>\n",
       "</table>\n",
       "</div>"
      ],
      "text/plain": [
       "          DateCrawled  Price  VehicleType  RegistrationYear Gearbox  Power  \\\n",
       "0 2016-03-24 11:52:17    480          NaN              1993  manual      0   \n",
       "1 2016-03-24 10:58:45  18300        coupe              2011  manual    190   \n",
       "2 2016-03-14 12:52:21   9800          suv              2004    auto    163   \n",
       "3 2016-03-17 16:54:04   1500        small              2001  manual     75   \n",
       "4 2016-03-31 17:25:20   3600        small              2008  manual     69   \n",
       "5 2016-04-04 17:36:23    650        sedan              1995  manual    102   \n",
       "6 2016-04-01 20:48:51   2200  convertible              2004  manual    109   \n",
       "7 2016-03-21 18:54:38      0        sedan              1980  manual     50   \n",
       "8 2016-04-04 23:42:13  14500          bus              2014  manual    125   \n",
       "9 2016-03-17 10:53:50    999        small              1998  manual    101   \n",
       "\n",
       "     Model  Kilometer  RegistrationMonth  FuelType       Brand Repaired  \\\n",
       "0     golf     150000                  0    petrol  volkswagen      NaN   \n",
       "1      NaN     125000                  5  gasoline        audi      yes   \n",
       "2    grand     125000                  8  gasoline        jeep      NaN   \n",
       "3     golf     150000                  6    petrol  volkswagen       no   \n",
       "4    fabia      90000                  7  gasoline       skoda       no   \n",
       "5      3er     150000                 10    petrol         bmw      yes   \n",
       "6  2_reihe     150000                  8    petrol     peugeot       no   \n",
       "7    other      40000                  7    petrol  volkswagen       no   \n",
       "8    c_max      30000                  8    petrol        ford      NaN   \n",
       "9     golf     150000                  0       NaN  volkswagen      NaN   \n",
       "\n",
       "  DateCreated  NumberOfPictures  PostalCode            LastSeen  \n",
       "0  2016-03-24                 0       70435 2016-04-07 03:16:57  \n",
       "1  2016-03-24                 0       66954 2016-04-07 01:46:50  \n",
       "2  2016-03-14                 0       90480 2016-04-05 12:47:46  \n",
       "3  2016-03-17                 0       91074 2016-03-17 17:40:17  \n",
       "4  2016-03-31                 0       60437 2016-04-06 10:17:21  \n",
       "5  2016-04-04                 0       33775 2016-04-06 19:17:07  \n",
       "6  2016-04-01                 0       67112 2016-04-05 18:18:39  \n",
       "7  2016-03-21                 0       19348 2016-03-25 16:47:58  \n",
       "8  2016-04-04                 0       94505 2016-04-04 23:42:13  \n",
       "9  2016-03-17                 0       27472 2016-03-31 17:17:06  "
      ]
     },
     "metadata": {},
     "output_type": "display_data"
    },
    {
     "name": "stdout",
     "output_type": "stream",
     "text": [
      "<class 'pandas.core.frame.DataFrame'>\n",
      "RangeIndex: 354369 entries, 0 to 354368\n",
      "Data columns (total 16 columns):\n",
      " #   Column             Non-Null Count   Dtype         \n",
      "---  ------             --------------   -----         \n",
      " 0   DateCrawled        354369 non-null  datetime64[ns]\n",
      " 1   Price              354369 non-null  int64         \n",
      " 2   VehicleType        316879 non-null  object        \n",
      " 3   RegistrationYear   354369 non-null  int64         \n",
      " 4   Gearbox            334536 non-null  object        \n",
      " 5   Power              354369 non-null  int64         \n",
      " 6   Model              334664 non-null  object        \n",
      " 7   Kilometer          354369 non-null  int64         \n",
      " 8   RegistrationMonth  354369 non-null  int64         \n",
      " 9   FuelType           321474 non-null  object        \n",
      " 10  Brand              354369 non-null  object        \n",
      " 11  Repaired           283215 non-null  object        \n",
      " 12  DateCreated        354369 non-null  datetime64[ns]\n",
      " 13  NumberOfPictures   354369 non-null  int64         \n",
      " 14  PostalCode         354369 non-null  int64         \n",
      " 15  LastSeen           354369 non-null  datetime64[ns]\n",
      "dtypes: datetime64[ns](3), int64(7), object(6)\n",
      "memory usage: 43.3+ MB\n"
     ]
    }
   ],
   "source": [
    "# Загружаем данные\n",
    "data = pd.read_csv(\n",
    "    'autos.csv', \n",
    "    sep=',',\n",
    "    parse_dates=['DateCrawled', 'DateCreated', 'LastSeen'],  # указываем колонки для парсинга дат\n",
    "    date_format='%Y-%m-%d %H:%M:%S'\n",
    ")\n",
    "display(data.head(10))\n",
    "data.info()"
   ]
  },
  {
   "cell_type": "markdown",
   "metadata": {},
   "source": [
    "В данных замечены пропуски, выведем отдельно их количество"
   ]
  },
  {
   "cell_type": "code",
   "execution_count": 81,
   "metadata": {},
   "outputs": [
    {
     "data": {
      "text/plain": [
       "DateCrawled              0\n",
       "Price                    0\n",
       "VehicleType          37490\n",
       "RegistrationYear         0\n",
       "Gearbox              19833\n",
       "Power                    0\n",
       "Model                19705\n",
       "Kilometer                0\n",
       "RegistrationMonth        0\n",
       "FuelType             32895\n",
       "Brand                    0\n",
       "Repaired             71154\n",
       "DateCreated              0\n",
       "NumberOfPictures         0\n",
       "PostalCode               0\n",
       "LastSeen                 0\n",
       "dtype: int64"
      ]
     },
     "execution_count": 81,
     "metadata": {},
     "output_type": "execute_result"
    }
   ],
   "source": [
    "data.isna().sum()"
   ]
  },
  {
   "cell_type": "markdown",
   "metadata": {},
   "source": [
    "В некоторых столбцах довольно много пропусков, поэтому удалить строчки с ними - будет сильной потерей для данных, а удалить полностью признак тоже нельзя, потому что он выглядит довольно значимым. <br/>\n",
    "Принято решение удалить все строчки где есть пропуски в столбцах Gearbox и Model, поскольку эти признаки меньше должны влиять на ценообразование авто. А в остальных столбцах заменить все пропущенные значения на категорию - 'unknown'."
   ]
  },
  {
   "cell_type": "code",
   "execution_count": 82,
   "metadata": {},
   "outputs": [],
   "source": [
    "data = data.dropna(subset=(['Gearbox','Model']))\n",
    "data[['VehicleType','FuelType','Repaired']] = data[['VehicleType','FuelType','Repaired']].fillna('unknown')"
   ]
  },
  {
   "cell_type": "code",
   "execution_count": 83,
   "metadata": {},
   "outputs": [
    {
     "data": {
      "text/plain": [
       "DateCrawled          0\n",
       "Price                0\n",
       "VehicleType          0\n",
       "RegistrationYear     0\n",
       "Gearbox              0\n",
       "Power                0\n",
       "Model                0\n",
       "Kilometer            0\n",
       "RegistrationMonth    0\n",
       "FuelType             0\n",
       "Brand                0\n",
       "Repaired             0\n",
       "DateCreated          0\n",
       "NumberOfPictures     0\n",
       "PostalCode           0\n",
       "LastSeen             0\n",
       "dtype: int64"
      ]
     },
     "execution_count": 83,
     "metadata": {},
     "output_type": "execute_result"
    }
   ],
   "source": [
    "data.isna().sum()"
   ]
  },
  {
   "cell_type": "markdown",
   "metadata": {},
   "source": [
    "Теперь проверим данные на дубликаты и удалим их, если они есть"
   ]
  },
  {
   "cell_type": "code",
   "execution_count": 84,
   "metadata": {},
   "outputs": [
    {
     "data": {
      "text/plain": [
       "np.int64(0)"
      ]
     },
     "execution_count": 84,
     "metadata": {},
     "output_type": "execute_result"
    }
   ],
   "source": [
    "data = data.drop_duplicates().reset_index(drop=True)\n",
    "data.duplicated().sum()"
   ]
  },
  {
   "cell_type": "code",
   "execution_count": 85,
   "metadata": {},
   "outputs": [
    {
     "name": "stdout",
     "output_type": "stream",
     "text": [
      "Числовые столбцы: ['Price', 'RegistrationYear', 'Power', 'Kilometer', 'RegistrationMonth', 'NumberOfPictures', 'PostalCode']\n"
     ]
    },
    {
     "data": {
      "image/png": "[encoded data removed]",
      "text/plain": [
       "<Figure size 1600x1200 with 7 Axes>"
      ]
     },
     "metadata": {},
     "output_type": "display_data"
    },
    {
     "name": "stdout",
     "output_type": "stream",
     "text": [
      "Категориальные столбцы: ['VehicleType', 'Gearbox', 'Model', 'FuelType', 'Brand', 'Repaired']\n"
     ]
    },
    {
     "data": {
      "image/png": "[encoded data removed]",
      "text/plain": [
       "<Figure size 1800x1200 with 6 Axes>"
      ]
     },
     "metadata": {},
     "output_type": "display_data"
    }
   ],
   "source": [
    "# Анализ числовых столбцов\n",
    "num_columns = data.select_dtypes(include=['float64','int64']).columns.tolist()\n",
    "print(\"Числовые столбцы:\", num_columns)\n",
    "\n",
    "plt.figure(figsize=(16, 12))\n",
    "for i, column in enumerate(num_columns):\n",
    "    plt.subplot(3, 3, i + 1)\n",
    "    data[column].hist(bins=30)\n",
    "    plt.title(f'{column}')\n",
    "    plt.xlabel(column)\n",
    "    plt.ylabel('Частота')\n",
    "plt.tight_layout()\n",
    "plt.show()\n",
    "\n",
    "# Анализ категориальных столбцов\n",
    "cat_columns = data.select_dtypes(include=['object']).columns.tolist()\n",
    "print(\"Категориальные столбцы:\", cat_columns)\n",
    "\n",
    "plt.figure(figsize=(18, 12))\n",
    "for i, column in enumerate(cat_columns):\n",
    "    plt.subplot(2, 3, i + 1)\n",
    "    data[column].value_counts().head(10).plot(kind='bar')\n",
    "    plt.title(f'{column}\\nУникальных: {data[column].nunique()}')\n",
    "    plt.xlabel(column)\n",
    "    plt.ylabel('Количество')\n",
    "    plt.xticks(rotation=45)\n",
    "plt.tight_layout()\n",
    "plt.show()"
   ]
  },
  {
   "cell_type": "markdown",
   "metadata": {},
   "source": [
    "На графиках мы видим, что распределение переменных преимущественно со скоссом влево"
   ]
  },
  {
   "cell_type": "markdown",
   "metadata": {},
   "source": [
    "## Анализ данных"
   ]
  },
  {
   "cell_type": "markdown",
   "metadata": {},
   "source": [
    "Выведем информацию о данных и изучим возможные выбросы."
   ]
  },
  {
   "cell_type": "code",
   "execution_count": 86,
   "metadata": {},
   "outputs": [
    {
     "data": {
      "text/html": [
       "<div>\n",
       "<style scoped>\n",
       "    .dataframe tbody tr th:only-of-type {\n",
       "        vertical-align: middle;\n",
       "    }\n",
       "\n",
       "    .dataframe tbody tr th {\n",
       "        vertical-align: top;\n",
       "    }\n",
       "\n",
       "    .dataframe thead th {\n",
       "        text-align: right;\n",
       "    }\n",
       "</style>\n",
       "<table border=\"1\" class=\"dataframe\">\n",
       "  <thead>\n",
       "    <tr style=\"text-align: right;\">\n",
       "      <th></th>\n",
       "      <th>DateCrawled</th>\n",
       "      <th>Price</th>\n",
       "      <th>RegistrationYear</th>\n",
       "      <th>Power</th>\n",
       "      <th>Kilometer</th>\n",
       "      <th>RegistrationMonth</th>\n",
       "      <th>DateCreated</th>\n",
       "      <th>NumberOfPictures</th>\n",
       "      <th>PostalCode</th>\n",
       "      <th>LastSeen</th>\n",
       "    </tr>\n",
       "  </thead>\n",
       "  <tbody>\n",
       "    <tr>\n",
       "      <th>count</th>\n",
       "      <td>318958</td>\n",
       "      <td>318958.000000</td>\n",
       "      <td>318958.000000</td>\n",
       "      <td>318958.000000</td>\n",
       "      <td>318958.000000</td>\n",
       "      <td>318958.000000</td>\n",
       "      <td>318958</td>\n",
       "      <td>318958.0</td>\n",
       "      <td>318958.000000</td>\n",
       "      <td>318958</td>\n",
       "    </tr>\n",
       "    <tr>\n",
       "      <th>mean</th>\n",
       "      <td>2016-03-21 13:16:33.687883520</td>\n",
       "      <td>4608.905502</td>\n",
       "      <td>2003.427031</td>\n",
       "      <td>114.965265</td>\n",
       "      <td>128844.738179</td>\n",
       "      <td>5.908107</td>\n",
       "      <td>2016-03-20 19:30:39.447199744</td>\n",
       "      <td>0.0</td>\n",
       "      <td>50766.394149</td>\n",
       "      <td>2016-03-30 02:14:42.292847104</td>\n",
       "    </tr>\n",
       "    <tr>\n",
       "      <th>min</th>\n",
       "      <td>2016-03-05 14:06:22</td>\n",
       "      <td>0.000000</td>\n",
       "      <td>1000.000000</td>\n",
       "      <td>0.000000</td>\n",
       "      <td>5000.000000</td>\n",
       "      <td>0.000000</td>\n",
       "      <td>2015-03-20 00:00:00</td>\n",
       "      <td>0.0</td>\n",
       "      <td>1067.000000</td>\n",
       "      <td>2016-03-05 14:15:08</td>\n",
       "    </tr>\n",
       "    <tr>\n",
       "      <th>25%</th>\n",
       "      <td>2016-03-13 12:06:20</td>\n",
       "      <td>1200.000000</td>\n",
       "      <td>1999.000000</td>\n",
       "      <td>75.000000</td>\n",
       "      <td>125000.000000</td>\n",
       "      <td>3.000000</td>\n",
       "      <td>2016-03-13 00:00:00</td>\n",
       "      <td>0.0</td>\n",
       "      <td>30455.000000</td>\n",
       "      <td>2016-03-23 08:47:58.500000</td>\n",
       "    </tr>\n",
       "    <tr>\n",
       "      <th>50%</th>\n",
       "      <td>2016-03-21 17:57:23.500000</td>\n",
       "      <td>2900.000000</td>\n",
       "      <td>2003.000000</td>\n",
       "      <td>105.000000</td>\n",
       "      <td>150000.000000</td>\n",
       "      <td>6.000000</td>\n",
       "      <td>2016-03-21 00:00:00</td>\n",
       "      <td>0.0</td>\n",
       "      <td>49610.000000</td>\n",
       "      <td>2016-04-03 19:45:08</td>\n",
       "    </tr>\n",
       "    <tr>\n",
       "      <th>75%</th>\n",
       "      <td>2016-03-29 14:49:14.500000</td>\n",
       "      <td>6700.000000</td>\n",
       "      <td>2008.000000</td>\n",
       "      <td>143.000000</td>\n",
       "      <td>150000.000000</td>\n",
       "      <td>9.000000</td>\n",
       "      <td>2016-03-29 00:00:00</td>\n",
       "      <td>0.0</td>\n",
       "      <td>71357.000000</td>\n",
       "      <td>2016-04-06 10:17:21</td>\n",
       "    </tr>\n",
       "    <tr>\n",
       "      <th>max</th>\n",
       "      <td>2016-04-07 14:36:58</td>\n",
       "      <td>20000.000000</td>\n",
       "      <td>9000.000000</td>\n",
       "      <td>20000.000000</td>\n",
       "      <td>150000.000000</td>\n",
       "      <td>12.000000</td>\n",
       "      <td>2016-04-07 00:00:00</td>\n",
       "      <td>0.0</td>\n",
       "      <td>99998.000000</td>\n",
       "      <td>2016-04-07 14:58:51</td>\n",
       "    </tr>\n",
       "    <tr>\n",
       "      <th>std</th>\n",
       "      <td>NaN</td>\n",
       "      <td>4564.241216</td>\n",
       "      <td>30.517461</td>\n",
       "      <td>185.627579</td>\n",
       "      <td>36620.680186</td>\n",
       "      <td>3.634281</td>\n",
       "      <td>NaN</td>\n",
       "      <td>0.0</td>\n",
       "      <td>25780.246706</td>\n",
       "      <td>NaN</td>\n",
       "    </tr>\n",
       "  </tbody>\n",
       "</table>\n",
       "</div>"
      ],
      "text/plain": [
       "                         DateCrawled          Price  RegistrationYear  \\\n",
       "count                         318958  318958.000000     318958.000000   \n",
       "mean   2016-03-21 13:16:33.687883520    4608.905502       2003.427031   \n",
       "min              2016-03-05 14:06:22       0.000000       1000.000000   \n",
       "25%              2016-03-13 12:06:20    1200.000000       1999.000000   \n",
       "50%       2016-03-21 17:57:23.500000    2900.000000       2003.000000   \n",
       "75%       2016-03-29 14:49:14.500000    6700.000000       2008.000000   \n",
       "max              2016-04-07 14:36:58   20000.000000       9000.000000   \n",
       "std                              NaN    4564.241216         30.517461   \n",
       "\n",
       "               Power      Kilometer  RegistrationMonth  \\\n",
       "count  318958.000000  318958.000000      318958.000000   \n",
       "mean      114.965265  128844.738179           5.908107   \n",
       "min         0.000000    5000.000000           0.000000   \n",
       "25%        75.000000  125000.000000           3.000000   \n",
       "50%       105.000000  150000.000000           6.000000   \n",
       "75%       143.000000  150000.000000           9.000000   \n",
       "max     20000.000000  150000.000000          12.000000   \n",
       "std       185.627579   36620.680186           3.634281   \n",
       "\n",
       "                         DateCreated  NumberOfPictures     PostalCode  \\\n",
       "count                         318958          318958.0  318958.000000   \n",
       "mean   2016-03-20 19:30:39.447199744               0.0   50766.394149   \n",
       "min              2015-03-20 00:00:00               0.0    1067.000000   \n",
       "25%              2016-03-13 00:00:00               0.0   30455.000000   \n",
       "50%              2016-03-21 00:00:00               0.0   49610.000000   \n",
       "75%              2016-03-29 00:00:00               0.0   71357.000000   \n",
       "max              2016-04-07 00:00:00               0.0   99998.000000   \n",
       "std                              NaN               0.0   25780.246706   \n",
       "\n",
       "                            LastSeen  \n",
       "count                         318958  \n",
       "mean   2016-03-30 02:14:42.292847104  \n",
       "min              2016-03-05 14:15:08  \n",
       "25%       2016-03-23 08:47:58.500000  \n",
       "50%              2016-04-03 19:45:08  \n",
       "75%              2016-04-06 10:17:21  \n",
       "max              2016-04-07 14:58:51  \n",
       "std                              NaN  "
      ]
     },
     "execution_count": 86,
     "metadata": {},
     "output_type": "execute_result"
    }
   ],
   "source": [
    "data.describe()"
   ]
  },
  {
   "cell_type": "markdown",
   "metadata": {},
   "source": [
    "Какие аномалии замечены:\n",
    "* есть машины с ценой 0\n",
    "* есть неадекватно большие и маленькие годы регистрации (1000 и 9000)\n",
    "* существует 0 месяц регистрации\n",
    "* во всем столбце с количеством фото на сайте стоит значение 0\n",
    "* кое где почтовый код записан некорректно\n",
    "\n",
    "Выведем диаграммы для более наглядного представления, а столбец с Количеством фото удалим как неинформативный. Также удалим столбец с почтовым индексом, так как это слишком индивидуальное значение, которое врятли будет иметь сильное влияние на цену."
   ]
  },
  {
   "cell_type": "code",
   "execution_count": 87,
   "metadata": {},
   "outputs": [],
   "source": [
    "# Удаляем ненужные столбцы\n",
    "data = data.drop('NumberOfPictures', axis=1)\n",
    "data = data.drop('PostalCode', axis=1)"
   ]
  },
  {
   "cell_type": "code",
   "execution_count": 88,
   "metadata": {},
   "outputs": [
    {
     "data": {
      "image/png": "[encoded data removed]",
      "text/plain": [
       "<Figure size 1400x1500 with 5 Axes>"
      ]
     },
     "metadata": {},
     "output_type": "display_data"
    }
   ],
   "source": [
    "num_columns = data.select_dtypes(include=['float64','int64']).columns.tolist()\n",
    "plt.figure(figsize=(14, 15))\n",
    "for i, column in enumerate(num_columns):\n",
    "    # Создаем subplot для текущего столбца\n",
    "    plt.subplot(3, 3, i + 1)  # 2 строки, 3 столбца, текущий график\n",
    "    \n",
    "    # Строим график размаха для текущего столбца\n",
    "    data.boxplot(column=column, ax=plt.gca())\n",
    "    \n",
    "    # Добавляем заголовок с названием столбца\n",
    "    plt.title(column)\n",
    "    \n",
    "    # Добавляем метки для осей\n",
    "    plt.xlabel(column)\n",
    "    plt.ylabel('Value')\n",
    "        \n",
    "plt.tight_layout()\n",
    "plt.show()"
   ]
  },
  {
   "cell_type": "markdown",
   "metadata": {},
   "source": [
    "Как видим, в данных присутствуют выбросы, которые мы можем обработать, для этого применим фильтрацию."
   ]
  },
  {
   "cell_type": "code",
   "execution_count": 102,
   "metadata": {},
   "outputs": [],
   "source": [
    "data = data.query('100 <= Price <= 13500')"
   ]
  },
  {
   "cell_type": "code",
   "execution_count": 103,
   "metadata": {},
   "outputs": [],
   "source": [
    "data = data.query('1987 <= RegistrationYear <= 2020')"
   ]
  },
  {
   "cell_type": "code",
   "execution_count": 104,
   "metadata": {},
   "outputs": [],
   "source": [
    "data = data.query('1 <= Power <= 370')"
   ]
  },
  {
   "cell_type": "code",
   "execution_count": 105,
   "metadata": {},
   "outputs": [
    {
     "data": {
      "image/png": "[encoded data removed]",
      "text/plain": [
       "<Figure size 1400x1500 with 5 Axes>"
      ]
     },
     "metadata": {},
     "output_type": "display_data"
    }
   ],
   "source": [
    "plt.figure(figsize=(14, 15))\n",
    "for i, column in enumerate(num_columns):\n",
    "    # Создаем subplot для текущего столбца\n",
    "    plt.subplot(3, 3, i + 1)  # 2 строки, 3 столбца, текущий график\n",
    "    \n",
    "    # Строим график размаха для текущего столбца\n",
    "    data.boxplot(column=column, ax=plt.gca())\n",
    "    \n",
    "    # Добавляем заголовок с названием столбца\n",
    "    plt.title(column)\n",
    "    \n",
    "    # Добавляем метки для осей\n",
    "    plt.xlabel(column)\n",
    "    plt.ylabel('Value')\n",
    "        \n",
    "plt.tight_layout()\n",
    "plt.show()"
   ]
  },
  {
   "cell_type": "markdown",
   "metadata": {},
   "source": [
    "Теперь данные очищены от аномальных значений и выбросов, удалены неинформативные столбцы. Но мы не можем утверждать точно про остальные столбцы, насколько они связаны с целевым признаком. Выведем матрицу корреляции чтобы увидеть все связи."
   ]
  },
  {
   "cell_type": "code",
   "execution_count": 19,
   "metadata": {},
   "outputs": [],
   "source": [
    "#для вывода матрицы корреляции подготовим датафрейм без столбцов с типом данных datetime\n",
    "#дата скачивания анкеты из базы, дата ее создания и дата последней активности пользователя врятли повлияют на цену машины значительно,\n",
    "#поэтому принято решение удалить эти признаки совсем\n",
    "data = data.drop('DateCrawled', axis=1)\n",
    "data = data.drop('LastSeen', axis=1)\n",
    "data = data.drop('DateCreated', axis=1)"
   ]
  },
  {
   "cell_type": "code",
   "execution_count": 20,
   "metadata": {},
   "outputs": [],
   "source": [
    "#соберем все численные переменные в датафрейме с помощью функции и сохраним их в переменную\n",
    "num_columns = data.select_dtypes(include=['float64','int64']).columns.tolist()\n",
    "interval_cols = ['Kilometer', 'RegistrationMonth', 'RegistrationYear']\n",
    "num_columns = [col for col in num_columns if col not in interval_cols]"
   ]
  },
  {
   "cell_type": "code",
   "execution_count": 21,
   "metadata": {},
   "outputs": [
    {
     "data": {
      "image/png": "[encoded data removed]",
      "text/plain": [
       "<Figure size 1440x1080 with 2 Axes>"
      ]
     },
     "metadata": {
      "needs_background": "light"
     },
     "output_type": "display_data"
    }
   ],
   "source": [
    "phik_matrix = data.phik_matrix(interval_cols=num_columns)\n",
    "\n",
    "#строим матрицу корреляции Phik\n",
    "plot_correlation_matrix(phik_matrix.values, \n",
    "                       x_labels = phik_matrix.columns,\n",
    "                       y_labels = phik_matrix.index,\n",
    "                       vmin = 0, vmax = 1,color_map = 'Greens',\n",
    "                       title = r'Корреляция по $\\phi_k$',\n",
    "                       fontsize_factor = 1.5, \n",
    "                       figsize = (20,15)\n",
    "                       )"
   ]
  },
  {
   "cell_type": "markdown",
   "metadata": {},
   "source": [
    "Теперь можно выделить признаки, которые больше всего влияют на целевой признак - Цену автомобиля:\n",
    "* Год регистрации\n",
    "* Модель\n",
    "* Мощность \n",
    "* Была ли машина в ремонте\n",
    "* Пробег\n",
    "\n",
    "Также влияние оказывает марка автомобиля, но у этого признака очень сильная корреляция с моделью автомобиля - 1. <br/>\n",
    "Наименьшее влияние на целевой признак оказал столбец с месяцем регистрации автомобиля. Звучит логично, учитывая что в нем данные встречаются про 13 месяцев. Он тем более не сможет быть информативным. Удалим его."
   ]
  },
  {
   "cell_type": "code",
   "execution_count": 22,
   "metadata": {},
   "outputs": [],
   "source": [
    "data = data.drop('RegistrationMonth', axis=1)"
   ]
  },
  {
   "cell_type": "code",
   "execution_count": 23,
   "metadata": {},
   "outputs": [
    {
     "data": {
      "image/png": "[encoded data removed]",
      "text/plain": [
       "<Figure size 1440x1080 with 2 Axes>"
      ]
     },
     "metadata": {
      "needs_background": "light"
     },
     "output_type": "display_data"
    }
   ],
   "source": [
    "phik_matrix = data.phik_matrix(interval_cols=num_columns)\n",
    "\n",
    "#строим матрицу корреляции Phik\n",
    "plot_correlation_matrix(phik_matrix.values, \n",
    "                       x_labels = phik_matrix.columns,\n",
    "                       y_labels = phik_matrix.index,\n",
    "                       vmin = 0, vmax = 1,color_map = 'Greens',\n",
    "                       title = r'Корреляция по $\\phi_k$',\n",
    "                       fontsize_factor = 1.5, \n",
    "                       figsize = (20,15)\n",
    "                       )"
   ]
  },
  {
   "cell_type": "markdown",
   "metadata": {},
   "source": [
    "После всех проделанных удалений лучше еще раз проверить данные на наличие дубликатов"
   ]
  },
  {
   "cell_type": "code",
   "execution_count": 24,
   "metadata": {},
   "outputs": [
    {
     "data": {
      "text/plain": [
       "32267"
      ]
     },
     "execution_count": 24,
     "metadata": {},
     "output_type": "execute_result"
    }
   ],
   "source": [
    "data.duplicated().sum()"
   ]
  },
  {
   "cell_type": "markdown",
   "metadata": {},
   "source": [
    "Найдено довольно много дубликатов. При обучении модели они будут бесполезны, поэтому удалим их"
   ]
  },
  {
   "cell_type": "code",
   "execution_count": 25,
   "metadata": {},
   "outputs": [],
   "source": [
    "data = data.drop_duplicates().reset_index(drop=True)"
   ]
  },
  {
   "cell_type": "code",
   "execution_count": 26,
   "metadata": {},
   "outputs": [
    {
     "data": {
      "text/plain": [
       "0"
      ]
     },
     "execution_count": 26,
     "metadata": {},
     "output_type": "execute_result"
    }
   ],
   "source": [
    "data.duplicated().sum()"
   ]
  },
  {
   "cell_type": "markdown",
   "metadata": {},
   "source": [
    "Теперь данные отлично подготовлены для дальнейшей работы с ними и обучения моделей предсказания. В них были устранены аномалии и выбросы, также были удалены неинформативные столбцы, в которых содержались данные не относящиеся к предсказанию целевой переменной, либо же те столбцы, где были обнаружены сильные аномалии при выгрузке."
   ]
  },
  {
   "cell_type": "markdown",
   "metadata": {},
   "source": [
    "## Обучение моделей"
   ]
  },
  {
   "cell_type": "code",
   "execution_count": 27,
   "metadata": {},
   "outputs": [],
   "source": [
    "#для начала разделим наш датасет на тренировочную и тестовую выборки\n",
    "RANDOM_STATE = 42\n",
    "TEST_SIZE = 0.25\n",
    "\n",
    "X_train, X_test, y_train, y_test = train_test_split(\n",
    "    data.drop('Price', \n",
    "        axis=1\n",
    "    ),\n",
    "    data['Price'],\n",
    "    test_size = TEST_SIZE, \n",
    "    random_state = RANDOM_STATE)\n"
   ]
  },
  {
   "cell_type": "code",
   "execution_count": 28,
   "metadata": {},
   "outputs": [
    {
     "data": {
      "text/plain": [
       "['RegistrationYear', 'Power', 'Kilometer']"
      ]
     },
     "execution_count": 28,
     "metadata": {},
     "output_type": "execute_result"
    }
   ],
   "source": [
    "#для удобства выведем списки всех численных переменных, созданные ранее с помощью функции\n",
    "num_columns = X_train.select_dtypes(include=['float64','int64']).columns.tolist()\n",
    "num_columns"
   ]
  },
  {
   "cell_type": "code",
   "execution_count": 29,
   "metadata": {},
   "outputs": [
    {
     "name": "stdout",
     "output_type": "stream",
     "text": [
      "Уникальные значения для столбца 'VehicleType': ['bus' 'small' 'wagon' 'other' 'sedan' 'unknown' 'coupe' 'suv'\n",
      " 'convertible']\n",
      "Уникальные значения для столбца 'Gearbox': ['manual' 'auto']\n",
      "Уникальные значения для столбца 'Model': ['touran' '2_reihe' 'ka' 'megane' 'focus' 'other' '3er' 'golf' 'caddy'\n",
      " 'a3' 'combo' 'galaxy' 'kalos' 'fox' '4_reihe' 'almera' 'a_klasse'\n",
      " 'toledo' 'clio' 'bora' 'corsa' 'primera' 'a6' 'v70' 'scenic' 'yaris'\n",
      " 'punto' 'fortwo' 'twingo' '1_reihe' 'fiesta' 'bravo' 'c3' 'transporter'\n",
      " 'fabia' 'grand' '5er' 'carisma' 'mondeo' 'c_klasse' 'a2' 'alhambra' '156'\n",
      " '147' 'kangoo' 'vectra' 'passat' 'accord' '500' 'santa' '3_reihe' 'omega'\n",
      " 'zafira' '159' 'vito' 'sportage' 'b_klasse' 'arosa' 'scirocco' 'ducato'\n",
      " '850' 'one' 'transit' 'escort' 'polo' 'slk' 'e_klasse' 'voyager' 'modus'\n",
      " 'a4' 'laguna' 'z_reihe' 'getz' 'berlingo' 'rio' 'astra' 'sorento' 'panda'\n",
      " 'aveo' 'beetle' 'espace' 'leon' 'mx_reihe' 'c1' 'octavia' 'civic' 'lupo'\n",
      " 'up' 'ibiza' 'rx_reihe' 'i_reihe' 'corolla' 'clk' 'vivaro' 'a8' 'avensis'\n",
      " 'cl' 'colt' 'signum' 'sharan' 'seicento' 'justy' 'roadster' '1er' 'rav'\n",
      " 'meriva' 'swift' 'tiguan' '6_reihe' 'legacy' 'lancer' 'ceed' '80'\n",
      " 'roomster' 'c4' 'x_reihe' 'agila' 'doblo' 'lybra' 'aygo' 'micra' '100'\n",
      " 'niva' 'c2' 'v40' '7er' 'sprinter' 'logan' 'cooper' 'altea' 'fusion'\n",
      " 'ptcruiser' 'touareg' 'tt' 'note' 'c_max' 'ypsilon' 'tigra' 'picanto'\n",
      " 'jazz' 'duster' 'auris' 'jimny' 'matiz' 'v_klasse' 'pajero' 'cuore'\n",
      " 'viano' 'verso' 'superb' 'cherokee' 'm_klasse' '9000' 'impreza' 'cordoba'\n",
      " 's_klasse' 'sirion' 'stilo' 'musa' 'mustang' 'forfour' 'c5' 'sandero'\n",
      " '5_reihe' 'x_trail' 'spider' 'tucson' 'freelander' 'cr_reihe' 's_max'\n",
      " 'r19' 'forester' '300c' 'carnival' 'kadett' 'exeo' 'x_type' 'samara'\n",
      " 'citigo' 'eos' 'galant' 'nubira' 'wrangler' 'jetta' 'lanos' 'yeti' '145'\n",
      " 'move' 'calibra' 's60' 'xc_reihe' 'phaeton' 'lodgy' 'qashqai' 'a1'\n",
      " 'c_reihe' 'kuga' 'g_klasse' 'insignia' 'range_rover' 'discovery'\n",
      " 'clubman' 'v50' 'boxster' 'cx_reihe' 's_type' '200' 'captiva' 'croma'\n",
      " 'antara' 'spark' 'delta' 'mii' 'kaefer' '90' 'navara' 'kappa' 'defender'\n",
      " 'rangerover' 'sl' '601' '900' 'glk' 'charade' 'outlander' 'elefantino'\n",
      " 'crossfire' 'cc' 'materia' 'a5' 'kalina' 'terios' 'i3' 'v60' '6er'\n",
      " 'range_rover_sport' 'amarok' 'm_reihe' 'juke' 'b_max']\n",
      "Уникальные значения для столбца 'FuelType': ['gasoline' 'unknown' 'petrol' 'lpg' 'cng' 'hybrid' 'other' 'electric']\n",
      "Уникальные значения для столбца 'Brand': ['volkswagen' 'peugeot' 'ford' 'renault' 'mercedes_benz' 'bmw' 'suzuki'\n",
      " 'audi' 'opel' 'daewoo' 'nissan' 'seat' 'volvo' 'toyota' 'fiat' 'smart'\n",
      " 'citroen' 'skoda' 'jeep' 'mitsubishi' 'alfa_romeo' 'honda' 'hyundai'\n",
      " 'kia' 'mini' 'chrysler' 'chevrolet' 'mazda' 'subaru' 'daihatsu' 'lancia'\n",
      " 'lada' 'dacia' 'saab' 'rover' 'land_rover' 'jaguar' 'porsche' 'trabant']\n",
      "Уникальные значения для столбца 'Repaired': ['no' 'unknown' 'yes']\n"
     ]
    }
   ],
   "source": [
    "cat_columns = X_train.select_dtypes(include=['object']).columns.tolist()\n",
    "for column in cat_columns:\n",
    "        unique_values = X_train[column].unique()\n",
    "        print(f\"Уникальные значения для столбца '{column}': {unique_values}\")"
   ]
  },
  {
   "cell_type": "markdown",
   "metadata": {},
   "source": [
    "### Пайплайн для моделей линейной регрессии и дерева регрессии"
   ]
  },
  {
   "cell_type": "code",
   "execution_count": 93,
   "metadata": {},
   "outputs": [],
   "source": [
    "# cоздаём пайплайн для подготовки признаков из списка cat_columns:\n",
    "ohe_pipe = Pipeline([\n",
    "        (\n",
    "            'simpleImputer_ohe', \n",
    "            SimpleImputer(missing_values=np.nan, strategy='most_frequent')\n",
    "        ),\n",
    "        (    'ohe', \n",
    "            OneHotEncoder(sparse=False, handle_unknown='ignore',drop='first')\n",
    "        )\n",
    "])"
   ]
  },
  {
   "cell_type": "code",
   "execution_count": 94,
   "metadata": {},
   "outputs": [
    {
     "name": "stdout",
     "output_type": "stream",
     "text": [
      "ColumnTransformer(remainder='passthrough',\n",
      "                  transformers=[('ohe',\n",
      "                                 Pipeline(steps=[('simpleImputer_ohe',\n",
      "                                                  SimpleImputer(strategy='most_frequent')),\n",
      "                                                 ('ohe',\n",
      "                                                  OneHotEncoder(drop='first',\n",
      "                                                                handle_unknown='ignore',\n",
      "                                                                sparse=False))]),\n",
      "                                 ['VehicleType', 'Gearbox', 'Model', 'FuelType',\n",
      "                                  'Brand', 'Repaired']),\n",
      "                                ('num', MinMaxScaler(),\n",
      "                                 ['RegistrationYear', 'Power', 'Kilometer'])])\n"
     ]
    }
   ],
   "source": [
    "# создайте общий пайплайн для объединения шагов подготовки данных\n",
    "data_preprocessor = ColumnTransformer(\n",
    "    [\n",
    "        ('ohe', ohe_pipe, cat_columns),\n",
    "        ('num', MinMaxScaler(), num_columns)   \n",
    "    ], \n",
    "    remainder =  'passthrough'\n",
    ")\n",
    "print(data_preprocessor)"
   ]
  },
  {
   "cell_type": "code",
   "execution_count": 95,
   "metadata": {},
   "outputs": [],
   "source": [
    "# создаём итоговый пайплайн: подготовка данных и модель\n",
    "pipe_final= Pipeline(\n",
    "    [\n",
    "        ('preprocessor', data_preprocessor),\n",
    "        ('models', DecisionTreeRegressor(random_state=RANDOM_STATE))\n",
    "    ]\n",
    ")"
   ]
  },
  {
   "cell_type": "code",
   "execution_count": 96,
   "metadata": {},
   "outputs": [],
   "source": [
    "param_distributions = [\n",
    "    {\n",
    "    # словарь для модели DecisionTreeRegressor()\n",
    "    'models': [DecisionTreeRegressor(random_state=RANDOM_STATE)],\n",
    "    'models__max_depth': range(1,6),\n",
    "    'models__min_samples_split': range(2,8),\n",
    "    'models__min_samples_leaf': range(2, 8),\n",
    "    'preprocessor__num': [StandardScaler(), MinMaxScaler(), 'passthrough']  \n",
    "    }\n",
    "]"
   ]
  },
  {
   "cell_type": "code",
   "execution_count": 97,
   "metadata": {},
   "outputs": [],
   "source": [
    "# Определим метрику RMSE\n",
    "rmse_scorer = make_scorer(mean_squared_error, squared=False)\n",
    "\n",
    "randomized_search = RandomizedSearchCV(\n",
    "    pipe_final, \n",
    "    param_distributions, \n",
    "    cv=5,\n",
    "    scoring=rmse_scorer,\n",
    "    random_state=RANDOM_STATE,\n",
    "    n_jobs=-1\n",
    ")"
   ]
  },
  {
   "cell_type": "code",
   "execution_count": 98,
   "metadata": {},
   "outputs": [
    {
     "name": "stdout",
     "output_type": "stream",
     "text": [
      "CPU times: user 58.4 s, sys: 17.4 s, total: 1min 15s\n",
      "Wall time: 1min 15s\n"
     ]
    },
    {
     "data": {
      "text/plain": [
       "RandomizedSearchCV(cv=5,\n",
       "                   estimator=Pipeline(steps=[('preprocessor',\n",
       "                                              ColumnTransformer(remainder='passthrough',\n",
       "                                                                transformers=[('ohe',\n",
       "                                                                               Pipeline(steps=[('simpleImputer_ohe',\n",
       "                                                                                                SimpleImputer(strategy='most_frequent')),\n",
       "                                                                                               ('ohe',\n",
       "                                                                                                OneHotEncoder(drop='first',\n",
       "                                                                                                              handle_unknown='ignore',\n",
       "                                                                                                              sparse=False))]),\n",
       "                                                                               ['VehicleType',\n",
       "                                                                                'Gearbox',\n",
       "                                                                                'Model',\n",
       "                                                                                'FuelType',\n",
       "                                                                                'Brand',\n",
       "                                                                                'Repaired']),\n",
       "                                                                              ('n...\n",
       "                   param_distributions=[{'models': [DecisionTreeRegressor(max_depth=1,\n",
       "                                                                          min_samples_leaf=6,\n",
       "                                                                          random_state=42)],\n",
       "                                         'models__max_depth': range(1, 6),\n",
       "                                         'models__min_samples_leaf': range(2, 8),\n",
       "                                         'models__min_samples_split': range(2, 8),\n",
       "                                         'preprocessor__num': [StandardScaler(),\n",
       "                                                               MinMaxScaler(),\n",
       "                                                               'passthrough']}],\n",
       "                   random_state=42,\n",
       "                   scoring=make_scorer(mean_squared_error, squared=False))"
      ]
     },
     "execution_count": 98,
     "metadata": {},
     "output_type": "execute_result"
    }
   ],
   "source": [
    "%%time\n",
    "randomized_search.fit(X_train, y_train)"
   ]
  },
  {
   "cell_type": "code",
   "execution_count": 99,
   "metadata": {},
   "outputs": [
    {
     "name": "stdout",
     "output_type": "stream",
     "text": [
      "Лучшая модель и её параметры:\n",
      "\n",
      " Pipeline(steps=[('preprocessor',\n",
      "                 ColumnTransformer(remainder='passthrough',\n",
      "                                   transformers=[('ohe',\n",
      "                                                  Pipeline(steps=[('simpleImputer_ohe',\n",
      "                                                                   SimpleImputer(strategy='most_frequent')),\n",
      "                                                                  ('ohe',\n",
      "                                                                   OneHotEncoder(drop='first',\n",
      "                                                                                 handle_unknown='ignore',\n",
      "                                                                                 sparse=False))]),\n",
      "                                                  ['VehicleType', 'Gearbox',\n",
      "                                                   'Model', 'FuelType', 'Brand',\n",
      "                                                   'Repaired']),\n",
      "                                                 ('num', MinMaxScaler(),\n",
      "                                                  ['RegistrationYear', 'Power',\n",
      "                                                   'Kilometer'])])),\n",
      "                ('models',\n",
      "                 DecisionTreeRegressor(max_depth=1, min_samples_leaf=6,\n",
      "                                       random_state=42))])\n"
     ]
    }
   ],
   "source": [
    "print('Лучшая модель и её параметры:\\n\\n', randomized_search.best_estimator_)"
   ]
  },
  {
   "cell_type": "code",
   "execution_count": 37,
   "metadata": {},
   "outputs": [],
   "source": [
    "# посчитаем метрику RMSE при кросс валидации\n",
    "#roc_auc_cv = cross_val_score(randomized_search, X_train, y_train, scoring = rmse_scorer).mean()"
   ]
  },
  {
   "cell_type": "code",
   "execution_count": 38,
   "metadata": {
    "scrolled": true
   },
   "outputs": [],
   "source": [
    "#print(f\"RMSE при кросс валидации: {randomized_search.best_score_}\")"
   ]
  },
  {
   "cell_type": "code",
   "execution_count": 80,
   "metadata": {},
   "outputs": [
    {
     "name": "stdout",
     "output_type": "stream",
     "text": [
      "Метрика лучшей модели на тренировочной выборке: 1847.2947123712142\n"
     ]
    }
   ],
   "source": [
    "print ('Метрика лучшей модели на тренировочной выборке:', randomized_search.best_score_)"
   ]
  },
  {
   "cell_type": "markdown",
   "metadata": {},
   "source": [
    "### Пайплайн для модели CatBoost\n"
   ]
  },
  {
   "cell_type": "code",
   "execution_count": 40,
   "metadata": {},
   "outputs": [],
   "source": [
    "# Создание модели\n",
    "model = CatBoostRegressor(random_state=RANDOM_STATE, loss_function=\"RMSE\", iterations=80, verbose=0)\n",
    "\n",
    "# Создание пайплайна\n",
    "pipe = Pipeline(steps=[\n",
    "    ('classifier', model)\n",
    "])\n",
    "\n",
    "# Параметры для RandomizedSearchCV\n",
    "param_distributions = {\n",
    "    'classifier__iterations': range(50, 200),\n",
    "    'classifier__depth': [4, 6, 8, 10],\n",
    "    'classifier__learning_rate': [0.01, 0.05, 0.1, 0.2]\n",
    "}\n",
    "\n",
    "# Определение метрики\n",
    "rmse_scorer = make_scorer(mean_squared_error, squared=False)\n",
    "\n",
    "# Создание RandomizedSearchCV\n",
    "random_search = RandomizedSearchCV(\n",
    "    pipe,\n",
    "    param_distributions,\n",
    "    cv=5,\n",
    "    scoring=rmse_scorer,\n",
    "    n_iter=10,\n",
    "    random_state=RANDOM_STATE,\n",
    "    n_jobs=-1\n",
    ")"
   ]
  },
  {
   "cell_type": "code",
   "execution_count": 41,
   "metadata": {},
   "outputs": [
    {
     "name": "stdout",
     "output_type": "stream",
     "text": [
      "CPU times: user 4min 35s, sys: 1.17 s, total: 4min 36s\n",
      "Wall time: 4min 57s\n"
     ]
    },
    {
     "data": {
      "text/plain": [
       "RandomizedSearchCV(cv=5,\n",
       "                   estimator=Pipeline(steps=[('classifier',\n",
       "                                              <catboost.core.CatBoostRegressor object at 0x7ff388ab5f70>)]),\n",
       "                   n_jobs=-1,\n",
       "                   param_distributions={'classifier__depth': [4, 6, 8, 10],\n",
       "                                        'classifier__iterations': range(50, 200),\n",
       "                                        'classifier__learning_rate': [0.01,\n",
       "                                                                      0.05, 0.1,\n",
       "                                                                      0.2]},\n",
       "                   random_state=42,\n",
       "                   scoring=make_scorer(mean_squared_error, squared=False))"
      ]
     },
     "execution_count": 41,
     "metadata": {},
     "output_type": "execute_result"
    }
   ],
   "source": [
    "%%time\n",
    "# Обучение модели с подбором гиперпараметров\n",
    "random_search.fit(X_train, y_train, classifier__cat_features=cat_columns)"
   ]
  },
  {
   "cell_type": "code",
   "execution_count": 73,
   "metadata": {},
   "outputs": [
    {
     "name": "stdout",
     "output_type": "stream",
     "text": [
      "Лучшие гиперпараметры: {'classifier__learning_rate': 0.01, 'classifier__iterations': 115, 'classifier__depth': 6}\n"
     ]
    }
   ],
   "source": [
    "# Вывод лучших гиперпараметров\n",
    "best_params = random_search.best_params_\n",
    "print(f\"Лучшие гиперпараметры: {best_params}\")"
   ]
  },
  {
   "cell_type": "code",
   "execution_count": 43,
   "metadata": {},
   "outputs": [],
   "source": [
    "# Кросс-валидация на лучшей модели\n",
    "#train_pool = Pool(X_train, y_train, cat_features=cat_columns)\n",
    "\n",
    "# Кросс-валидация на лучшей модели\n",
    "#cv_resultsTRUE = cross_val_score(best_model, X_train, y_train, scoring=rmse_scorer, cv=5, fit_params={'cat_features': cat_columns}).mean()\n",
    "#print(f\"RMSE при кросс-валидации: {cv_resultsTRUE}\")"
   ]
  },
  {
   "cell_type": "code",
   "execution_count": 74,
   "metadata": {},
   "outputs": [
    {
     "name": "stdout",
     "output_type": "stream",
     "text": [
      "Метрика лучшей модели на тренировочной выборке: 1481.741088241773\n"
     ]
    }
   ],
   "source": [
    "print ('Метрика лучшей модели на тренировочной выборке:', random_search.best_score_)"
   ]
  },
  {
   "cell_type": "markdown",
   "metadata": {},
   "source": [
    "### Обучение модели LightGBM"
   ]
  },
  {
   "cell_type": "code",
   "execution_count": 45,
   "metadata": {},
   "outputs": [],
   "source": [
    "# Создание трансформера для предобработки данных\n",
    "preprocessor = ColumnTransformer(\n",
    "    transformers=[\n",
    "        ('num', StandardScaler(), num_columns),\n",
    "        ('cat', OneHotEncoder(sparse=False, handle_unknown='ignore',drop='first'), cat_columns)\n",
    "    ])\n",
    "\n",
    "# Создание модели\n",
    "model = lgb.LGBMRegressor(random_state=RANDOM_STATE, objective='regression', metric='rmse', verbosity=-1)\n",
    "\n",
    "# Создание пайплайна\n",
    "pipe = Pipeline(steps=[\n",
    "    ('preprocessor', preprocessor),\n",
    "    ('classifier', model)\n",
    "])\n",
    "\n",
    "# Параметры для RandomizedSearchCV\n",
    "param_distributions = {\n",
    "    'classifier__n_estimators': range(50, 200),\n",
    "    'classifier__num_leaves': [31, 50, 70],\n",
    "    'classifier__learning_rate': [0.01, 0.05, 0.1, 0.2],\n",
    "    'classifier__max_depth': [-1, 4, 6, 8, 10]\n",
    "}\n",
    "\n",
    "# Определение метрики\n",
    "rmse_scorer = make_scorer(mean_squared_error, squared=False)\n",
    "\n",
    "# Создание RandomizedSearchCV\n",
    "random_search2 = RandomizedSearchCV(\n",
    "    pipe,\n",
    "    param_distributions,\n",
    "    cv=5,\n",
    "    scoring=rmse_scorer,\n",
    "    n_iter=10,\n",
    "    random_state=RANDOM_STATE,\n",
    "    n_jobs=-1\n",
    ")"
   ]
  },
  {
   "cell_type": "code",
   "execution_count": 46,
   "metadata": {},
   "outputs": [
    {
     "name": "stdout",
     "output_type": "stream",
     "text": [
      "CPU times: user 4min 56s, sys: 17.8 s, total: 5min 14s\n",
      "Wall time: 5min 14s\n"
     ]
    },
    {
     "data": {
      "text/plain": [
       "RandomizedSearchCV(cv=5,\n",
       "                   estimator=Pipeline(steps=[('preprocessor',\n",
       "                                              ColumnTransformer(transformers=[('num',\n",
       "                                                                               StandardScaler(),\n",
       "                                                                               ['RegistrationYear',\n",
       "                                                                                'Power',\n",
       "                                                                                'Kilometer']),\n",
       "                                                                              ('cat',\n",
       "                                                                               OneHotEncoder(drop='first',\n",
       "                                                                                             handle_unknown='ignore',\n",
       "                                                                                             sparse=False),\n",
       "                                                                               ['VehicleType',\n",
       "                                                                                'Gearbox',\n",
       "                                                                                'Model',\n",
       "                                                                                'FuelType',\n",
       "                                                                                'Brand',\n",
       "                                                                                'Repaired'])])),\n",
       "                                             ('classifier',\n",
       "                                              LGBMRegressor(metric='rmse',\n",
       "                                                            objective='regression',\n",
       "                                                            random_state=42,\n",
       "                                                            verbosity=-1))]),\n",
       "                   n_jobs=-1,\n",
       "                   param_distributions={'classifier__learning_rate': [0.01,\n",
       "                                                                      0.05, 0.1,\n",
       "                                                                      0.2],\n",
       "                                        'classifier__max_depth': [-1, 4, 6, 8,\n",
       "                                                                  10],\n",
       "                                        'classifier__n_estimators': range(50, 200),\n",
       "                                        'classifier__num_leaves': [31, 50, 70]},\n",
       "                   random_state=42,\n",
       "                   scoring=make_scorer(mean_squared_error, squared=False))"
      ]
     },
     "execution_count": 46,
     "metadata": {},
     "output_type": "execute_result"
    }
   ],
   "source": [
    "%%time\n",
    "# Обучение модели с подбором гиперпараметров\n",
    "random_search2.fit(X_train, y_train)"
   ]
  },
  {
   "cell_type": "code",
   "execution_count": 47,
   "metadata": {},
   "outputs": [
    {
     "name": "stdout",
     "output_type": "stream",
     "text": [
      "Лучшая модель и её параметры:\n",
      "\n",
      " Pipeline(steps=[('preprocessor',\n",
      "                 ColumnTransformer(transformers=[('num', StandardScaler(),\n",
      "                                                  ['RegistrationYear', 'Power',\n",
      "                                                   'Kilometer']),\n",
      "                                                 ('cat',\n",
      "                                                  OneHotEncoder(drop='first',\n",
      "                                                                handle_unknown='ignore',\n",
      "                                                                sparse=False),\n",
      "                                                  ['VehicleType', 'Gearbox',\n",
      "                                                   'Model', 'FuelType', 'Brand',\n",
      "                                                   'Repaired'])])),\n",
      "                ('classifier',\n",
      "                 LGBMRegressor(learning_rate=0.01, max_depth=4, metric='rmse',\n",
      "                               n_estimators=55, num_leaves=50,\n",
      "                               objective='regression', random_state=42,\n",
      "                               verbosity=-1))])\n"
     ]
    }
   ],
   "source": [
    "print('Лучшая модель и её параметры:\\n\\n', random_search2.best_estimator_)"
   ]
  },
  {
   "cell_type": "code",
   "execution_count": 48,
   "metadata": {},
   "outputs": [
    {
     "name": "stdout",
     "output_type": "stream",
     "text": [
      "Метрика лучшей модели на тренировочной выборке: 1804.2608094781249\n"
     ]
    }
   ],
   "source": [
    "print ('Метрика лучшей модели на тренировочной выборке:', random_search2.best_score_)"
   ]
  },
  {
   "cell_type": "code",
   "execution_count": 49,
   "metadata": {},
   "outputs": [],
   "source": [
    "# Кросс-валидация на лучшей модели\n",
    "#rmse_cv = cross_val_score(random_search2.best_estimator_, X_train, y_train, scoring=rmse_scorer, cv=5).mean()\n",
    "#print(f\"RMSE при кросс-валидации: {rmse_cv}\")"
   ]
  },
  {
   "cell_type": "markdown",
   "metadata": {},
   "source": [
    "## Анализ моделей\n",
    "Были получены время обучения моделей, время предсказания и показатели метрики RMSE на валидационной выборке. Из них учитывая требоания заказчика нам предстоит выбрать лучшую и проверить ее работу на тестовой выборке. <br/>\n",
    "Для начала выведем время обучения, предсказания и метрики для всех лучших моделей полученных выше"
   ]
  },
  {
   "cell_type": "code",
   "execution_count": 100,
   "metadata": {},
   "outputs": [
    {
     "name": "stdout",
     "output_type": "stream",
     "text": [
      "Показатели модели DecisionTreeRegressor(max_depth=1, min_samples_leaf=6, random_state=42)\n",
      "Время обучения лучшей модели: 1.6089393615722656 секунд\n",
      "Время предсказания лучшей модели : 0.15572595596313477 секунд\n",
      "Значение метрики RMSE на валидационной выборке модели  : 1847.2947123712142\n",
      "\n",
      "Показатели модели CatBoostRegressor('{'classifier__learning_rate': 0.01, 'classifier__iterations': 115, 'classifier__depth': 6}')'\n",
      "Время обучения лучшей модели: 6.782056140899658 секунд\n",
      "Время предсказания лучшей модели : 0.04033064842224121 секунд\n",
      "Значение метрики RMSE на валидационной выборке модели  : 1481.741088241773\n",
      "\n",
      "Показатели модели LGBMRegressor(learning_rate=0.01, max_depth=4, metric='rmse', n_estimators=55,\n",
      "              num_leaves=50, objective='regression', random_state=42,\n",
      "              verbosity=-1)\n",
      "Время обучения лучшей модели: 8.482510375976563 секунд\n",
      "Время предсказания лучшей модели : 0.6766763210296631 секунд\n",
      "Значение метрики RMSE на валидационной выборке модели  : 1804.2608094781249\n",
      "\n"
     ]
    }
   ],
   "source": [
    "best_model1 = randomized_search.best_estimator_.named_steps['models']\n",
    "best_model2 = f\"CatBoostRegressor('{best_params}')'\"\n",
    "best_model3 = random_search2.best_estimator_.named_steps['classifier']\n",
    "\n",
    "\n",
    "#scores = [roc_auc_cv,cv_resultsTRUE,rmse_cv]\n",
    "name_of_best_models = [best_model1,best_model2,best_model3]\n",
    "models = [randomized_search, random_search, random_search2 ]\n",
    "\n",
    "fit_times = []\n",
    "score_times = []\n",
    "rmse_scores = []\n",
    "\n",
    "# Обучение моделей и извлечение времени выполнения\n",
    "for model in models:\n",
    "    cv_results1 = pd.DataFrame(model.cv_results_)\n",
    "    best_index = cv_results1['mean_test_score'].idxmin()\n",
    "    fit_times.append(cv_results1.loc[best_index, 'mean_fit_time'])\n",
    "    score_times.append(cv_results1.loc[best_index, 'mean_score_time'])\n",
    "    rmse_scores.append(model.best_score_)\n",
    "\n",
    "# Печать результатов\n",
    "for i, (fit_time, score_time,rmse_scores) in enumerate(zip(fit_times, score_times,rmse_scores), start=1):\n",
    "    print(f\"Показатели модели {name_of_best_models[i-1]}\")\n",
    "    print(f\"Время обучения лучшей модели: {fit_time} секунд\")\n",
    "    print(f\"Время предсказания лучшей модели : {score_time} секунд\")\n",
    "    print(f\"Значение метрики RMSE на валидационной выборке модели  : {rmse_scores}\")\n",
    "    print()\n"
   ]
  },
  {
   "cell_type": "markdown",
   "metadata": {},
   "source": [
    "Результаты получены и выведены выше. Учитывая те критерии, которые важны заказчику, а именно:\n",
    "* качество предсказания;\n",
    "* время обучения модели;\n",
    "* время предсказания модели.\n",
    "\n",
    "Исходя из них можно сделать вывод, что лучшей моделью их всех 3 получается модель CatBoostRegressor с гиперпараметрами (iterations = 115, learning_rate = 0.01, depth = 6, loss_function = 'RMSE', verbose = 0). Ее показатели в метрике RMSE и времени в сумме лучше чем у остальных моделей, я считаю что она лучше всего подойдет для задачи заказчика. \n"
   ]
  },
  {
   "cell_type": "markdown",
   "metadata": {},
   "source": [
    "Теперь сохраним отдельно лучшую модель и проверим ее работу на тестовой выборке"
   ]
  },
  {
   "cell_type": "code",
   "execution_count": 101,
   "metadata": {},
   "outputs": [],
   "source": [
    "# Предсказание на тестовой выборке\n",
    "y_pred = random_search.predict(X_test)"
   ]
  },
  {
   "cell_type": "code",
   "execution_count": 102,
   "metadata": {},
   "outputs": [
    {
     "name": "stdout",
     "output_type": "stream",
     "text": [
      "Значение метрики RMSE на тестовой выборке : 1490.170808677776\n"
     ]
    }
   ],
   "source": [
    "# Вычисление метрики RMSE на тестовой выборке\n",
    "rmse = mean_squared_error(y_test, y_pred, squared=False)\n",
    "print(f\"Значение метрики RMSE на тестовой выборке : {rmse}\")"
   ]
  },
  {
   "cell_type": "markdown",
   "metadata": {},
   "source": [
    "Проверка сделана, метрика действительно показывает довольно хорошие результаты. Задача решена."
   ]
  },
  {
   "cell_type": "markdown",
   "metadata": {},
   "source": [
    "## **Вывод для заказчика**: <br/>\n",
    "Лучшее качество предсказаний дает модель **CatBoostRegressor с гиперпараметрами (iterations = 115, learning_rate = 0.01, depth = 6, loss_function = 'RMSE', verbose = 0)**. Ее показатель метрики RMSE на тестовой выборке равен 1490.74, она обошла другие модели по показателю метрики на валидационной выборке, а время ее обучения заняло 6.88 секунды.<br/><br/>\n",
    "Лучшее время обучения показывает модель **DecisionTreeRegressor c гиперпараметрами (max_depth=1, min_samples_leaf=6, min_samples_split=3, random_state=RANDOM_STATE)**. Ее время обучения составляет 2 мин 14 секунд, но показатель метрики - 1847.4, что хуже чем у первой модели.<br/>\n",
    "На время предсказания опираться бессмысленно, так как у всех моделей оно занимает миллисекунды, но даже если учитывать их, в данном случае CatBoostRegressor справляется за 0.0382s против 0.195s у DecisionTreeRegressor. <br/><br/>\n",
    "\n",
    "**Итого:** для решения задачи заказчика лучше всего подходит модель CatBoostRegressor с гиперпараметрами (iterations = 115, learning_rate = 0.01, depth = 6, loss_function = 'RMSE', verbose = 0), я советую в дальнейшем использовать ее.\n"
   ]
  }
 ],
 "metadata": {
  "ExecuteTimeLog": [
   {
    "duration": 44,
    "start_time": "2024-07-06T22:23:34.733Z"
   },
   {
    "duration": 396,
    "start_time": "2024-07-06T22:24:03.793Z"
   },
   {
    "duration": 1004,
    "start_time": "2024-07-06T22:24:04.832Z"
   },
   {
    "duration": 777,
    "start_time": "2024-07-06T22:24:21.345Z"
   },
   {
    "duration": 833,
    "start_time": "2024-07-06T22:25:57.299Z"
   },
   {
    "duration": 113,
    "start_time": "2024-07-06T22:28:23.567Z"
   },
   {
    "duration": 38,
    "start_time": "2024-07-06T22:48:29.214Z"
   },
   {
    "duration": 25,
    "start_time": "2024-07-06T22:49:14.400Z"
   },
   {
    "duration": 24,
    "start_time": "2024-07-06T22:49:23.507Z"
   },
   {
    "duration": 131,
    "start_time": "2024-07-06T22:49:44.334Z"
   },
   {
    "duration": 37,
    "start_time": "2024-07-06T22:49:51.819Z"
   },
   {
    "duration": 2,
    "start_time": "2024-07-06T22:50:14.278Z"
   },
   {
    "duration": 826,
    "start_time": "2024-07-06T22:50:14.533Z"
   },
   {
    "duration": 118,
    "start_time": "2024-07-06T22:50:15.361Z"
   },
   {
    "duration": 131,
    "start_time": "2024-07-06T22:50:18.910Z"
   },
   {
    "duration": 41,
    "start_time": "2024-07-06T22:51:33.065Z"
   },
   {
    "duration": 650,
    "start_time": "2024-07-06T22:51:45.422Z"
   },
   {
    "duration": 2,
    "start_time": "2024-07-06T22:51:59.697Z"
   },
   {
    "duration": 807,
    "start_time": "2024-07-06T22:51:59.923Z"
   },
   {
    "duration": 106,
    "start_time": "2024-07-06T22:52:00.732Z"
   },
   {
    "duration": 152,
    "start_time": "2024-07-06T22:52:00.840Z"
   },
   {
    "duration": 6,
    "start_time": "2024-07-06T22:52:10.131Z"
   },
   {
    "duration": 6,
    "start_time": "2024-07-06T22:55:44.777Z"
   },
   {
    "duration": 2774,
    "start_time": "2024-07-07T07:45:30.584Z"
   },
   {
    "duration": 385,
    "start_time": "2024-07-07T07:45:33.360Z"
   },
   {
    "duration": 1084,
    "start_time": "2024-07-07T07:45:33.747Z"
   },
   {
    "duration": 115,
    "start_time": "2024-07-07T07:45:34.832Z"
   },
   {
    "duration": 91,
    "start_time": "2024-07-07T07:45:34.949Z"
   },
   {
    "duration": 92,
    "start_time": "2024-07-07T07:45:46.294Z"
   },
   {
    "duration": 2499,
    "start_time": "2024-07-07T07:47:37.393Z"
   },
   {
    "duration": 2,
    "start_time": "2024-07-07T07:47:39.894Z"
   },
   {
    "duration": 859,
    "start_time": "2024-07-07T07:47:39.897Z"
   },
   {
    "duration": 105,
    "start_time": "2024-07-07T07:47:40.758Z"
   },
   {
    "duration": 68,
    "start_time": "2024-07-07T07:47:40.864Z"
   },
   {
    "duration": 0,
    "start_time": "2024-07-07T07:47:40.934Z"
   },
   {
    "duration": 106,
    "start_time": "2024-07-07T07:48:15.659Z"
   },
   {
    "duration": 31,
    "start_time": "2024-07-07T07:48:16.989Z"
   },
   {
    "duration": 3,
    "start_time": "2024-07-07T07:48:30.850Z"
   },
   {
    "duration": 769,
    "start_time": "2024-07-07T07:48:31.213Z"
   },
   {
    "duration": 132,
    "start_time": "2024-07-07T07:48:31.984Z"
   },
   {
    "duration": 111,
    "start_time": "2024-07-07T07:48:32.333Z"
   },
   {
    "duration": 96,
    "start_time": "2024-07-07T07:48:33.046Z"
   },
   {
    "duration": 333,
    "start_time": "2024-07-07T07:50:22.673Z"
   },
   {
    "duration": 847,
    "start_time": "2024-07-07T07:53:12.911Z"
   },
   {
    "duration": 684,
    "start_time": "2024-07-07T07:53:19.194Z"
   },
   {
    "duration": 32,
    "start_time": "2024-07-07T07:56:04.973Z"
   },
   {
    "duration": 255,
    "start_time": "2024-07-07T07:56:11.737Z"
   },
   {
    "duration": 51,
    "start_time": "2024-07-07T08:02:49.415Z"
   },
   {
    "duration": 15,
    "start_time": "2024-07-07T08:04:16.450Z"
   },
   {
    "duration": 19,
    "start_time": "2024-07-07T08:05:23.339Z"
   },
   {
    "duration": 225,
    "start_time": "2024-07-07T08:07:51.930Z"
   },
   {
    "duration": 3,
    "start_time": "2024-07-07T08:20:26.956Z"
   },
   {
    "duration": 783,
    "start_time": "2024-07-07T08:20:27.167Z"
   },
   {
    "duration": 142,
    "start_time": "2024-07-07T08:20:27.951Z"
   },
   {
    "duration": 120,
    "start_time": "2024-07-07T08:20:28.094Z"
   },
   {
    "duration": 96,
    "start_time": "2024-07-07T08:20:28.216Z"
   },
   {
    "duration": 271,
    "start_time": "2024-07-07T08:20:28.861Z"
   },
   {
    "duration": 206,
    "start_time": "2024-07-07T08:20:31.913Z"
   },
   {
    "duration": 453,
    "start_time": "2024-07-07T08:20:33.030Z"
   },
   {
    "duration": 117,
    "start_time": "2024-07-07T08:20:34.844Z"
   },
   {
    "duration": 134,
    "start_time": "2024-07-07T08:24:39.683Z"
   },
   {
    "duration": 188,
    "start_time": "2024-07-07T08:24:40.134Z"
   },
   {
    "duration": 432,
    "start_time": "2024-07-07T08:24:40.616Z"
   },
   {
    "duration": 137,
    "start_time": "2024-07-07T08:24:41.049Z"
   },
   {
    "duration": 72,
    "start_time": "2024-07-07T08:28:41.133Z"
   },
   {
    "duration": 84,
    "start_time": "2024-07-07T08:28:47.906Z"
   },
   {
    "duration": 72,
    "start_time": "2024-07-07T08:28:55.989Z"
   },
   {
    "duration": 45,
    "start_time": "2024-07-07T08:40:18.281Z"
   },
   {
    "duration": 75,
    "start_time": "2024-07-07T08:42:20.395Z"
   },
   {
    "duration": 70,
    "start_time": "2024-07-07T08:42:30.343Z"
   },
   {
    "duration": 11,
    "start_time": "2024-07-07T08:42:50.042Z"
   },
   {
    "duration": 376,
    "start_time": "2024-07-07T08:43:24.418Z"
   },
   {
    "duration": 1889,
    "start_time": "2024-07-07T08:43:29.010Z"
   },
   {
    "duration": 95,
    "start_time": "2024-07-07T08:51:21.760Z"
   },
   {
    "duration": 1501,
    "start_time": "2024-07-07T08:51:29.741Z"
   },
   {
    "duration": 3,
    "start_time": "2024-07-07T08:54:40.728Z"
   },
   {
    "duration": 823,
    "start_time": "2024-07-07T08:54:40.949Z"
   },
   {
    "duration": 109,
    "start_time": "2024-07-07T08:54:41.774Z"
   },
   {
    "duration": 138,
    "start_time": "2024-07-07T08:54:41.884Z"
   },
   {
    "duration": 94,
    "start_time": "2024-07-07T08:54:42.024Z"
   },
   {
    "duration": 269,
    "start_time": "2024-07-07T08:54:42.239Z"
   },
   {
    "duration": 235,
    "start_time": "2024-07-07T08:54:42.603Z"
   },
   {
    "duration": 433,
    "start_time": "2024-07-07T08:54:42.947Z"
   },
   {
    "duration": 116,
    "start_time": "2024-07-07T08:54:43.382Z"
   },
   {
    "duration": 81,
    "start_time": "2024-07-07T08:54:44.345Z"
   },
   {
    "duration": 45,
    "start_time": "2024-07-07T08:54:44.886Z"
   },
   {
    "duration": 1809,
    "start_time": "2024-07-07T08:54:45.112Z"
   },
   {
    "duration": 86,
    "start_time": "2024-07-07T08:54:46.923Z"
   },
   {
    "duration": 1555,
    "start_time": "2024-07-07T08:54:47.010Z"
   },
   {
    "duration": 74,
    "start_time": "2024-07-07T08:57:17.703Z"
   },
   {
    "duration": 1142,
    "start_time": "2024-07-07T08:57:18.390Z"
   },
   {
    "duration": 1045,
    "start_time": "2024-07-07T08:58:49.644Z"
   },
   {
    "duration": 3,
    "start_time": "2024-07-07T08:58:55.716Z"
   },
   {
    "duration": 833,
    "start_time": "2024-07-07T08:58:55.931Z"
   },
   {
    "duration": 123,
    "start_time": "2024-07-07T08:58:56.766Z"
   },
   {
    "duration": 142,
    "start_time": "2024-07-07T08:58:56.891Z"
   },
   {
    "duration": 107,
    "start_time": "2024-07-07T08:58:57.035Z"
   },
   {
    "duration": 285,
    "start_time": "2024-07-07T08:58:57.424Z"
   },
   {
    "duration": 249,
    "start_time": "2024-07-07T08:58:58.257Z"
   },
   {
    "duration": 460,
    "start_time": "2024-07-07T08:58:59.173Z"
   },
   {
    "duration": 1331,
    "start_time": "2024-07-07T08:58:59.635Z"
   },
   {
    "duration": 94,
    "start_time": "2024-07-07T09:01:53.917Z"
   },
   {
    "duration": 1520,
    "start_time": "2024-07-07T09:01:55.655Z"
   },
   {
    "duration": 3,
    "start_time": "2024-07-07T09:02:34.176Z"
   },
   {
    "duration": 759,
    "start_time": "2024-07-07T09:02:34.417Z"
   },
   {
    "duration": 132,
    "start_time": "2024-07-07T09:02:35.178Z"
   },
   {
    "duration": 144,
    "start_time": "2024-07-07T09:02:35.311Z"
   },
   {
    "duration": 93,
    "start_time": "2024-07-07T09:02:35.456Z"
   },
   {
    "duration": 256,
    "start_time": "2024-07-07T09:02:35.803Z"
   },
   {
    "duration": 211,
    "start_time": "2024-07-07T09:02:36.747Z"
   },
   {
    "duration": 428,
    "start_time": "2024-07-07T09:02:37.600Z"
   },
   {
    "duration": 1365,
    "start_time": "2024-07-07T09:02:38.051Z"
   },
   {
    "duration": 121,
    "start_time": "2024-07-07T09:02:39.418Z"
   },
   {
    "duration": 84,
    "start_time": "2024-07-07T09:02:41.260Z"
   },
   {
    "duration": 50,
    "start_time": "2024-07-07T09:02:42.296Z"
   },
   {
    "duration": 1717,
    "start_time": "2024-07-07T09:02:42.761Z"
   },
   {
    "duration": 80,
    "start_time": "2024-07-07T09:02:44.480Z"
   },
   {
    "duration": 1128,
    "start_time": "2024-07-07T09:02:44.562Z"
   },
   {
    "duration": 12,
    "start_time": "2024-07-07T09:05:18.216Z"
   },
   {
    "duration": 2,
    "start_time": "2024-07-07T09:05:24.687Z"
   },
   {
    "duration": 877,
    "start_time": "2024-07-07T09:05:24.920Z"
   },
   {
    "duration": 114,
    "start_time": "2024-07-07T09:05:25.799Z"
   },
   {
    "duration": 131,
    "start_time": "2024-07-07T09:05:25.915Z"
   },
   {
    "duration": 97,
    "start_time": "2024-07-07T09:05:26.047Z"
   },
   {
    "duration": 286,
    "start_time": "2024-07-07T09:05:27.260Z"
   },
   {
    "duration": 206,
    "start_time": "2024-07-07T09:05:28.263Z"
   },
   {
    "duration": 474,
    "start_time": "2024-07-07T09:05:29.042Z"
   },
   {
    "duration": 1324,
    "start_time": "2024-07-07T09:05:29.727Z"
   },
   {
    "duration": 134,
    "start_time": "2024-07-07T09:05:31.052Z"
   },
   {
    "duration": 73,
    "start_time": "2024-07-07T09:05:32.950Z"
   },
   {
    "duration": 47,
    "start_time": "2024-07-07T09:05:34.555Z"
   },
   {
    "duration": 1678,
    "start_time": "2024-07-07T09:05:35.376Z"
   },
   {
    "duration": 57,
    "start_time": "2024-07-07T09:05:40.094Z"
   },
   {
    "duration": 1362,
    "start_time": "2024-07-07T09:05:40.758Z"
   },
   {
    "duration": 59,
    "start_time": "2024-07-07T09:06:05.967Z"
   },
   {
    "duration": 1334,
    "start_time": "2024-07-07T09:06:06.481Z"
   },
   {
    "duration": 14,
    "start_time": "2024-07-07T09:06:07.816Z"
   },
   {
    "duration": 5697,
    "start_time": "2024-07-07T09:08:44.376Z"
   },
   {
    "duration": 539,
    "start_time": "2024-07-07T09:08:50.076Z"
   },
   {
    "duration": 55,
    "start_time": "2024-07-07T09:15:11.303Z"
   },
   {
    "duration": 1041,
    "start_time": "2024-07-07T09:15:20.680Z"
   },
   {
    "duration": 1097,
    "start_time": "2024-07-07T09:15:21.722Z"
   },
   {
    "duration": 108,
    "start_time": "2024-07-07T09:15:22.821Z"
   },
   {
    "duration": 145,
    "start_time": "2024-07-07T09:15:22.931Z"
   },
   {
    "duration": 109,
    "start_time": "2024-07-07T09:15:23.077Z"
   },
   {
    "duration": 336,
    "start_time": "2024-07-07T09:15:23.188Z"
   },
   {
    "duration": 227,
    "start_time": "2024-07-07T09:15:23.526Z"
   },
   {
    "duration": 478,
    "start_time": "2024-07-07T09:15:23.755Z"
   },
   {
    "duration": 1320,
    "start_time": "2024-07-07T09:15:24.234Z"
   },
   {
    "duration": 123,
    "start_time": "2024-07-07T09:15:25.555Z"
   },
   {
    "duration": 73,
    "start_time": "2024-07-07T09:15:25.679Z"
   },
   {
    "duration": 58,
    "start_time": "2024-07-07T09:15:25.753Z"
   },
   {
    "duration": 1780,
    "start_time": "2024-07-07T09:15:25.813Z"
   },
   {
    "duration": 130,
    "start_time": "2024-07-07T09:15:27.594Z"
   },
   {
    "duration": 1346,
    "start_time": "2024-07-07T09:15:27.725Z"
   },
   {
    "duration": 21,
    "start_time": "2024-07-07T09:15:29.072Z"
   },
   {
    "duration": 93299,
    "start_time": "2024-07-07T09:15:29.094Z"
   },
   {
    "duration": 5665,
    "start_time": "2024-07-07T09:21:51.743Z"
   },
   {
    "duration": 23,
    "start_time": "2024-07-07T09:23:19.738Z"
   },
   {
    "duration": 10,
    "start_time": "2024-07-07T09:23:32.168Z"
   },
   {
    "duration": 806,
    "start_time": "2024-07-07T09:23:32.498Z"
   },
   {
    "duration": 101,
    "start_time": "2024-07-07T09:23:33.306Z"
   },
   {
    "duration": 130,
    "start_time": "2024-07-07T09:23:33.411Z"
   },
   {
    "duration": 88,
    "start_time": "2024-07-07T09:23:33.603Z"
   },
   {
    "duration": 252,
    "start_time": "2024-07-07T09:23:33.998Z"
   },
   {
    "duration": 227,
    "start_time": "2024-07-07T09:23:34.385Z"
   },
   {
    "duration": 455,
    "start_time": "2024-07-07T09:23:34.865Z"
   },
   {
    "duration": 1313,
    "start_time": "2024-07-07T09:23:35.322Z"
   },
   {
    "duration": 122,
    "start_time": "2024-07-07T09:23:36.637Z"
   },
   {
    "duration": 77,
    "start_time": "2024-07-07T09:23:36.761Z"
   },
   {
    "duration": 37,
    "start_time": "2024-07-07T09:23:37.187Z"
   },
   {
    "duration": 1826,
    "start_time": "2024-07-07T09:23:37.429Z"
   },
   {
    "duration": 58,
    "start_time": "2024-07-07T09:23:39.257Z"
   },
   {
    "duration": 1272,
    "start_time": "2024-07-07T09:23:39.317Z"
   },
   {
    "duration": 13,
    "start_time": "2024-07-07T09:23:40.591Z"
   },
   {
    "duration": 4095,
    "start_time": "2024-07-07T09:23:40.606Z"
   },
   {
    "duration": 14,
    "start_time": "2024-07-07T09:31:16.788Z"
   },
   {
    "duration": 3484,
    "start_time": "2024-07-07T09:31:17.058Z"
   },
   {
    "duration": 227,
    "start_time": "2024-07-07T09:44:25.190Z"
   },
   {
    "duration": 37,
    "start_time": "2024-07-07T09:46:50.145Z"
   },
   {
    "duration": 32,
    "start_time": "2024-07-07T09:47:02.459Z"
   },
   {
    "duration": 33,
    "start_time": "2024-07-07T09:47:27.924Z"
   },
   {
    "duration": 34,
    "start_time": "2024-07-07T10:25:48.061Z"
   },
   {
    "duration": 36,
    "start_time": "2024-07-07T10:26:35.829Z"
   },
   {
    "duration": 8,
    "start_time": "2024-07-07T10:57:45.679Z"
   },
   {
    "duration": 93,
    "start_time": "2024-07-07T10:58:12.136Z"
   },
   {
    "duration": 74,
    "start_time": "2024-07-07T11:08:38.972Z"
   },
   {
    "duration": 11,
    "start_time": "2024-07-07T11:09:17.643Z"
   },
   {
    "duration": 10,
    "start_time": "2024-07-07T11:09:18.442Z"
   },
   {
    "duration": 75,
    "start_time": "2024-07-07T11:09:49.993Z"
   },
   {
    "duration": 13,
    "start_time": "2024-07-07T11:09:55.601Z"
   },
   {
    "duration": 12,
    "start_time": "2024-07-07T11:09:58.479Z"
   },
   {
    "duration": 7566,
    "start_time": "2024-07-07T11:11:18.339Z"
   },
   {
    "duration": 4,
    "start_time": "2024-07-07T11:11:29.335Z"
   },
   {
    "duration": 15,
    "start_time": "2024-07-07T11:12:22.590Z"
   },
   {
    "duration": 8,
    "start_time": "2024-07-07T11:12:24.115Z"
   },
   {
    "duration": 7797,
    "start_time": "2024-07-07T11:13:23.881Z"
   },
   {
    "duration": 1299,
    "start_time": "2024-07-07T11:13:31.680Z"
   },
   {
    "duration": 867,
    "start_time": "2024-07-07T11:13:32.981Z"
   },
   {
    "duration": 102,
    "start_time": "2024-07-07T11:13:33.850Z"
   },
   {
    "duration": 137,
    "start_time": "2024-07-07T11:13:33.954Z"
   },
   {
    "duration": 88,
    "start_time": "2024-07-07T11:13:34.092Z"
   },
   {
    "duration": 313,
    "start_time": "2024-07-07T11:13:34.182Z"
   },
   {
    "duration": 228,
    "start_time": "2024-07-07T11:13:34.497Z"
   },
   {
    "duration": 478,
    "start_time": "2024-07-07T11:13:34.726Z"
   },
   {
    "duration": 1315,
    "start_time": "2024-07-07T11:13:35.205Z"
   },
   {
    "duration": 119,
    "start_time": "2024-07-07T11:13:36.522Z"
   },
   {
    "duration": 76,
    "start_time": "2024-07-07T11:13:36.642Z"
   },
   {
    "duration": 51,
    "start_time": "2024-07-07T11:13:36.720Z"
   },
   {
    "duration": 1695,
    "start_time": "2024-07-07T11:13:36.773Z"
   },
   {
    "duration": 56,
    "start_time": "2024-07-07T11:13:38.470Z"
   },
   {
    "duration": 1366,
    "start_time": "2024-07-07T11:13:38.527Z"
   },
   {
    "duration": 14,
    "start_time": "2024-07-07T11:13:39.894Z"
   },
   {
    "duration": 4262,
    "start_time": "2024-07-07T11:13:39.910Z"
   },
   {
    "duration": 14,
    "start_time": "2024-07-07T11:13:44.173Z"
   },
   {
    "duration": 3582,
    "start_time": "2024-07-07T11:13:44.189Z"
   },
   {
    "duration": 41,
    "start_time": "2024-07-07T11:13:47.772Z"
   },
   {
    "duration": 6,
    "start_time": "2024-07-07T11:13:47.814Z"
   },
   {
    "duration": 71,
    "start_time": "2024-07-07T11:13:47.821Z"
   },
   {
    "duration": 113,
    "start_time": "2024-07-07T11:13:47.893Z"
   },
   {
    "duration": 0,
    "start_time": "2024-07-07T11:13:48.007Z"
   },
   {
    "duration": 25316,
    "start_time": "2024-07-07T11:14:32.276Z"
   },
   {
    "duration": 1717,
    "start_time": "2024-07-07T11:14:57.594Z"
   },
   {
    "duration": 0,
    "start_time": "2024-07-07T11:14:59.313Z"
   },
   {
    "duration": 0,
    "start_time": "2024-07-07T11:14:59.314Z"
   },
   {
    "duration": 0,
    "start_time": "2024-07-07T11:14:59.315Z"
   },
   {
    "duration": 0,
    "start_time": "2024-07-07T11:14:59.315Z"
   },
   {
    "duration": 0,
    "start_time": "2024-07-07T11:14:59.316Z"
   },
   {
    "duration": 0,
    "start_time": "2024-07-07T11:14:59.317Z"
   },
   {
    "duration": 0,
    "start_time": "2024-07-07T11:14:59.317Z"
   },
   {
    "duration": 0,
    "start_time": "2024-07-07T11:14:59.318Z"
   },
   {
    "duration": 0,
    "start_time": "2024-07-07T11:14:59.319Z"
   },
   {
    "duration": 0,
    "start_time": "2024-07-07T11:14:59.320Z"
   },
   {
    "duration": 0,
    "start_time": "2024-07-07T11:14:59.321Z"
   },
   {
    "duration": 0,
    "start_time": "2024-07-07T11:14:59.322Z"
   },
   {
    "duration": 0,
    "start_time": "2024-07-07T11:14:59.322Z"
   },
   {
    "duration": 0,
    "start_time": "2024-07-07T11:14:59.323Z"
   },
   {
    "duration": 0,
    "start_time": "2024-07-07T11:14:59.324Z"
   },
   {
    "duration": 0,
    "start_time": "2024-07-07T11:14:59.325Z"
   },
   {
    "duration": 0,
    "start_time": "2024-07-07T11:14:59.326Z"
   },
   {
    "duration": 0,
    "start_time": "2024-07-07T11:14:59.326Z"
   },
   {
    "duration": 0,
    "start_time": "2024-07-07T11:14:59.327Z"
   },
   {
    "duration": 0,
    "start_time": "2024-07-07T11:14:59.328Z"
   },
   {
    "duration": 0,
    "start_time": "2024-07-07T11:14:59.328Z"
   },
   {
    "duration": 0,
    "start_time": "2024-07-07T11:14:59.329Z"
   },
   {
    "duration": 0,
    "start_time": "2024-07-07T11:14:59.330Z"
   },
   {
    "duration": 14242,
    "start_time": "2024-07-07T11:16:19.336Z"
   },
   {
    "duration": 90,
    "start_time": "2024-07-07T11:16:35.165Z"
   },
   {
    "duration": 14295,
    "start_time": "2024-07-07T11:16:58.739Z"
   },
   {
    "duration": 1667,
    "start_time": "2024-07-07T11:17:13.037Z"
   },
   {
    "duration": 0,
    "start_time": "2024-07-07T11:17:14.708Z"
   },
   {
    "duration": 0,
    "start_time": "2024-07-07T11:17:14.709Z"
   },
   {
    "duration": 0,
    "start_time": "2024-07-07T11:17:14.711Z"
   },
   {
    "duration": 0,
    "start_time": "2024-07-07T11:17:14.712Z"
   },
   {
    "duration": 0,
    "start_time": "2024-07-07T11:17:14.713Z"
   },
   {
    "duration": 0,
    "start_time": "2024-07-07T11:17:14.715Z"
   },
   {
    "duration": 0,
    "start_time": "2024-07-07T11:17:14.716Z"
   },
   {
    "duration": 0,
    "start_time": "2024-07-07T11:17:14.717Z"
   },
   {
    "duration": 0,
    "start_time": "2024-07-07T11:17:14.718Z"
   },
   {
    "duration": 0,
    "start_time": "2024-07-07T11:17:14.720Z"
   },
   {
    "duration": 0,
    "start_time": "2024-07-07T11:17:14.721Z"
   },
   {
    "duration": 0,
    "start_time": "2024-07-07T11:17:14.722Z"
   },
   {
    "duration": 0,
    "start_time": "2024-07-07T11:17:14.723Z"
   },
   {
    "duration": 0,
    "start_time": "2024-07-07T11:17:14.724Z"
   },
   {
    "duration": 0,
    "start_time": "2024-07-07T11:17:14.726Z"
   },
   {
    "duration": 1,
    "start_time": "2024-07-07T11:17:14.727Z"
   },
   {
    "duration": 0,
    "start_time": "2024-07-07T11:17:14.729Z"
   },
   {
    "duration": 0,
    "start_time": "2024-07-07T11:17:14.730Z"
   },
   {
    "duration": 0,
    "start_time": "2024-07-07T11:17:14.734Z"
   },
   {
    "duration": 0,
    "start_time": "2024-07-07T11:17:14.771Z"
   },
   {
    "duration": 0,
    "start_time": "2024-07-07T11:17:14.772Z"
   },
   {
    "duration": 0,
    "start_time": "2024-07-07T11:17:14.774Z"
   },
   {
    "duration": 0,
    "start_time": "2024-07-07T11:17:14.775Z"
   },
   {
    "duration": 813,
    "start_time": "2024-07-07T20:13:26.714Z"
   },
   {
    "duration": 0,
    "start_time": "2024-07-07T20:14:06.811Z"
   },
   {
    "duration": 0,
    "start_time": "2024-07-07T20:14:06.812Z"
   },
   {
    "duration": 11961,
    "start_time": "2024-07-07T20:14:19.934Z"
   },
   {
    "duration": 31,
    "start_time": "2024-07-07T20:14:31.898Z"
   },
   {
    "duration": 24,
    "start_time": "2024-07-07T20:14:47.549Z"
   },
   {
    "duration": 7057,
    "start_time": "2024-07-07T20:15:25.334Z"
   },
   {
    "duration": 1879,
    "start_time": "2024-07-07T20:15:32.393Z"
   },
   {
    "duration": 0,
    "start_time": "2024-07-07T20:15:34.274Z"
   },
   {
    "duration": 0,
    "start_time": "2024-07-07T20:15:34.275Z"
   },
   {
    "duration": 0,
    "start_time": "2024-07-07T20:15:34.277Z"
   },
   {
    "duration": 0,
    "start_time": "2024-07-07T20:15:34.278Z"
   },
   {
    "duration": 0,
    "start_time": "2024-07-07T20:15:34.279Z"
   },
   {
    "duration": 0,
    "start_time": "2024-07-07T20:15:34.282Z"
   },
   {
    "duration": 0,
    "start_time": "2024-07-07T20:15:34.283Z"
   },
   {
    "duration": 0,
    "start_time": "2024-07-07T20:15:34.284Z"
   },
   {
    "duration": 0,
    "start_time": "2024-07-07T20:15:34.285Z"
   },
   {
    "duration": 0,
    "start_time": "2024-07-07T20:15:34.286Z"
   },
   {
    "duration": 0,
    "start_time": "2024-07-07T20:15:34.288Z"
   },
   {
    "duration": 0,
    "start_time": "2024-07-07T20:15:34.289Z"
   },
   {
    "duration": 0,
    "start_time": "2024-07-07T20:15:34.290Z"
   },
   {
    "duration": 0,
    "start_time": "2024-07-07T20:15:34.291Z"
   },
   {
    "duration": 0,
    "start_time": "2024-07-07T20:15:34.292Z"
   },
   {
    "duration": 0,
    "start_time": "2024-07-07T20:15:34.293Z"
   },
   {
    "duration": 0,
    "start_time": "2024-07-07T20:15:34.294Z"
   },
   {
    "duration": 0,
    "start_time": "2024-07-07T20:15:34.296Z"
   },
   {
    "duration": 0,
    "start_time": "2024-07-07T20:15:34.297Z"
   },
   {
    "duration": 0,
    "start_time": "2024-07-07T20:15:34.298Z"
   },
   {
    "duration": 0,
    "start_time": "2024-07-07T20:15:34.299Z"
   },
   {
    "duration": 0,
    "start_time": "2024-07-07T20:15:34.300Z"
   },
   {
    "duration": 0,
    "start_time": "2024-07-07T20:15:34.301Z"
   },
   {
    "duration": 4,
    "start_time": "2024-07-07T20:19:59.931Z"
   },
   {
    "duration": 7428,
    "start_time": "2024-07-07T20:20:01.858Z"
   },
   {
    "duration": 6,
    "start_time": "2024-07-07T20:20:09.289Z"
   },
   {
    "duration": 3252,
    "start_time": "2024-07-07T20:20:33.389Z"
   },
   {
    "duration": 134,
    "start_time": "2024-07-07T20:20:36.643Z"
   },
   {
    "duration": 170,
    "start_time": "2024-07-07T20:20:36.779Z"
   },
   {
    "duration": 132,
    "start_time": "2024-07-07T20:20:36.951Z"
   },
   {
    "duration": 293,
    "start_time": "2024-07-07T20:20:38.169Z"
   },
   {
    "duration": 233,
    "start_time": "2024-07-07T20:20:38.830Z"
   },
   {
    "duration": 523,
    "start_time": "2024-07-07T20:20:39.730Z"
   },
   {
    "duration": 1581,
    "start_time": "2024-07-07T20:20:40.254Z"
   },
   {
    "duration": 160,
    "start_time": "2024-07-07T20:20:41.837Z"
   },
   {
    "duration": 78,
    "start_time": "2024-07-07T20:20:42.452Z"
   },
   {
    "duration": 50,
    "start_time": "2024-07-07T20:22:20.168Z"
   },
   {
    "duration": 2085,
    "start_time": "2024-07-07T20:22:20.320Z"
   },
   {
    "duration": 83,
    "start_time": "2024-07-07T20:22:22.407Z"
   },
   {
    "duration": 1596,
    "start_time": "2024-07-07T20:22:22.492Z"
   },
   {
    "duration": 15,
    "start_time": "2024-07-07T20:22:24.091Z"
   },
   {
    "duration": 4278,
    "start_time": "2024-07-07T20:22:24.108Z"
   },
   {
    "duration": 15,
    "start_time": "2024-07-07T20:22:28.388Z"
   },
   {
    "duration": 3688,
    "start_time": "2024-07-07T20:22:28.404Z"
   },
   {
    "duration": 51,
    "start_time": "2024-07-07T20:22:32.094Z"
   },
   {
    "duration": 19,
    "start_time": "2024-07-07T20:22:32.147Z"
   },
   {
    "duration": 85,
    "start_time": "2024-07-07T20:22:32.169Z"
   },
   {
    "duration": 14,
    "start_time": "2024-07-07T20:22:32.256Z"
   },
   {
    "duration": 0,
    "start_time": "2024-07-07T20:22:32.272Z"
   },
   {
    "duration": 11813,
    "start_time": "2024-07-07T20:25:16.827Z"
   },
   {
    "duration": 4,
    "start_time": "2024-07-07T20:25:32.530Z"
   },
   {
    "duration": 954,
    "start_time": "2024-07-07T20:25:37.147Z"
   },
   {
    "duration": 119,
    "start_time": "2024-07-07T20:25:38.559Z"
   },
   {
    "duration": 129,
    "start_time": "2024-07-07T20:25:38.869Z"
   },
   {
    "duration": 107,
    "start_time": "2024-07-07T20:25:39.049Z"
   },
   {
    "duration": 286,
    "start_time": "2024-07-07T20:25:39.334Z"
   },
   {
    "duration": 215,
    "start_time": "2024-07-07T20:25:39.647Z"
   },
   {
    "duration": 428,
    "start_time": "2024-07-07T20:25:40.033Z"
   },
   {
    "duration": 1641,
    "start_time": "2024-07-07T20:25:40.464Z"
   },
   {
    "duration": 114,
    "start_time": "2024-07-07T20:25:42.107Z"
   },
   {
    "duration": 85,
    "start_time": "2024-07-07T20:25:42.222Z"
   },
   {
    "duration": 56,
    "start_time": "2024-07-07T20:25:42.309Z"
   },
   {
    "duration": 2009,
    "start_time": "2024-07-07T20:25:42.367Z"
   },
   {
    "duration": 65,
    "start_time": "2024-07-07T20:25:44.378Z"
   },
   {
    "duration": 1550,
    "start_time": "2024-07-07T20:25:44.445Z"
   },
   {
    "duration": 14,
    "start_time": "2024-07-07T20:25:45.997Z"
   },
   {
    "duration": 4313,
    "start_time": "2024-07-07T20:25:46.013Z"
   },
   {
    "duration": 12,
    "start_time": "2024-07-07T20:25:50.328Z"
   },
   {
    "duration": 3685,
    "start_time": "2024-07-07T20:25:50.342Z"
   },
   {
    "duration": 64,
    "start_time": "2024-07-07T20:25:54.030Z"
   },
   {
    "duration": 6,
    "start_time": "2024-07-07T20:25:54.095Z"
   },
   {
    "duration": 64,
    "start_time": "2024-07-07T20:25:54.103Z"
   },
   {
    "duration": 11,
    "start_time": "2024-07-07T20:25:54.169Z"
   },
   {
    "duration": 0,
    "start_time": "2024-07-07T20:25:54.181Z"
   },
   {
    "duration": 3,
    "start_time": "2024-07-07T20:27:33.631Z"
   },
   {
    "duration": 11,
    "start_time": "2024-07-07T20:27:35.734Z"
   },
   {
    "duration": 10,
    "start_time": "2024-07-07T20:41:05.979Z"
   },
   {
    "duration": 4,
    "start_time": "2024-07-07T20:41:47.107Z"
   },
   {
    "duration": 10,
    "start_time": "2024-07-07T20:41:53.181Z"
   },
   {
    "duration": 5,
    "start_time": "2024-07-07T20:47:02.109Z"
   },
   {
    "duration": 11,
    "start_time": "2024-07-07T20:47:07.127Z"
   },
   {
    "duration": 5,
    "start_time": "2024-07-07T20:47:27.062Z"
   },
   {
    "duration": 10,
    "start_time": "2024-07-07T20:47:32.416Z"
   },
   {
    "duration": 10,
    "start_time": "2024-07-07T20:47:39.981Z"
   },
   {
    "duration": 10,
    "start_time": "2024-07-07T20:47:41.588Z"
   },
   {
    "duration": 10,
    "start_time": "2024-07-07T20:47:42.136Z"
   },
   {
    "duration": 15,
    "start_time": "2024-07-07T20:48:03.757Z"
   },
   {
    "duration": 10137,
    "start_time": "2024-07-07T20:58:54.778Z"
   },
   {
    "duration": 20,
    "start_time": "2024-07-07T20:59:04.918Z"
   },
   {
    "duration": 4,
    "start_time": "2024-07-07T21:00:24.121Z"
   },
   {
    "duration": 3,
    "start_time": "2024-07-07T21:00:39.994Z"
   },
   {
    "duration": 10,
    "start_time": "2024-07-07T21:00:41.169Z"
   },
   {
    "duration": 3,
    "start_time": "2024-07-07T21:00:48.619Z"
   },
   {
    "duration": 86,
    "start_time": "2024-07-08T09:10:25.841Z"
   },
   {
    "duration": 825,
    "start_time": "2024-07-08T09:10:26.693Z"
   },
   {
    "duration": 15273,
    "start_time": "2024-07-08T09:10:36.398Z"
   },
   {
    "duration": 665,
    "start_time": "2024-07-08T09:11:04.696Z"
   },
   {
    "duration": 49,
    "start_time": "2024-07-08T09:12:08.245Z"
   },
   {
    "duration": 9,
    "start_time": "2024-07-08T09:12:49.281Z"
   },
   {
    "duration": 10,
    "start_time": "2024-07-08T09:12:52.747Z"
   },
   {
    "duration": 9,
    "start_time": "2024-07-08T09:13:01.118Z"
   },
   {
    "duration": 9566,
    "start_time": "2024-07-08T09:13:17.194Z"
   },
   {
    "duration": 1193,
    "start_time": "2024-07-08T09:13:26.762Z"
   },
   {
    "duration": 3020,
    "start_time": "2024-07-08T09:13:27.956Z"
   },
   {
    "duration": 148,
    "start_time": "2024-07-08T09:13:30.978Z"
   },
   {
    "duration": 200,
    "start_time": "2024-07-08T09:13:31.128Z"
   },
   {
    "duration": 143,
    "start_time": "2024-07-08T09:13:31.329Z"
   },
   {
    "duration": 377,
    "start_time": "2024-07-08T09:13:31.474Z"
   },
   {
    "duration": 273,
    "start_time": "2024-07-08T09:13:31.853Z"
   },
   {
    "duration": 547,
    "start_time": "2024-07-08T09:13:32.128Z"
   },
   {
    "duration": 1553,
    "start_time": "2024-07-08T09:13:32.677Z"
   },
   {
    "duration": 117,
    "start_time": "2024-07-08T09:13:34.231Z"
   },
   {
    "duration": 86,
    "start_time": "2024-07-08T09:13:34.350Z"
   },
   {
    "duration": 58,
    "start_time": "2024-07-08T09:13:34.438Z"
   },
   {
    "duration": 2188,
    "start_time": "2024-07-08T09:13:34.499Z"
   },
   {
    "duration": 62,
    "start_time": "2024-07-08T09:13:36.688Z"
   },
   {
    "duration": 1490,
    "start_time": "2024-07-08T09:13:36.751Z"
   },
   {
    "duration": 14,
    "start_time": "2024-07-08T09:13:38.242Z"
   },
   {
    "duration": 4999,
    "start_time": "2024-07-08T09:13:38.265Z"
   },
   {
    "duration": 17,
    "start_time": "2024-07-08T09:13:43.266Z"
   },
   {
    "duration": 4221,
    "start_time": "2024-07-08T09:13:43.285Z"
   },
   {
    "duration": 46,
    "start_time": "2024-07-08T09:13:47.507Z"
   },
   {
    "duration": 13,
    "start_time": "2024-07-08T09:13:47.555Z"
   },
   {
    "duration": 87,
    "start_time": "2024-07-08T09:13:47.570Z"
   },
   {
    "duration": 4,
    "start_time": "2024-07-08T09:13:47.659Z"
   },
   {
    "duration": 13,
    "start_time": "2024-07-08T09:13:47.665Z"
   },
   {
    "duration": 3,
    "start_time": "2024-07-08T09:13:47.680Z"
   },
   {
    "duration": 11,
    "start_time": "2024-07-08T09:13:47.685Z"
   },
   {
    "duration": 3,
    "start_time": "2024-07-08T09:13:47.697Z"
   },
   {
    "duration": 3,
    "start_time": "2024-07-08T09:14:15.906Z"
   },
   {
    "duration": 4,
    "start_time": "2024-07-08T09:14:45.560Z"
   },
   {
    "duration": 3,
    "start_time": "2024-07-08T09:14:46.094Z"
   },
   {
    "duration": 111391,
    "start_time": "2024-07-08T09:15:08.090Z"
   },
   {
    "duration": 3,
    "start_time": "2024-07-08T09:17:28.154Z"
   },
   {
    "duration": 3,
    "start_time": "2024-07-08T09:17:28.260Z"
   },
   {
    "duration": 5,
    "start_time": "2024-07-08T09:17:30.261Z"
   },
   {
    "duration": 200356,
    "start_time": "2024-07-08T09:17:34.262Z"
   },
   {
    "duration": 3,
    "start_time": "2024-07-08T09:24:23.106Z"
   },
   {
    "duration": 353,
    "start_time": "2024-07-08T09:29:00.732Z"
   },
   {
    "duration": 6,
    "start_time": "2024-07-08T09:31:57.934Z"
   },
   {
    "duration": 3,
    "start_time": "2024-07-08T09:36:13.751Z"
   },
   {
    "duration": 4,
    "start_time": "2024-07-08T09:36:52.083Z"
   },
   {
    "duration": 4,
    "start_time": "2024-07-08T09:36:57.545Z"
   },
   {
    "duration": 990,
    "start_time": "2024-07-08T09:37:51.644Z"
   },
   {
    "duration": 141,
    "start_time": "2024-07-08T09:37:52.636Z"
   },
   {
    "duration": 166,
    "start_time": "2024-07-08T09:37:52.779Z"
   },
   {
    "duration": 134,
    "start_time": "2024-07-08T09:37:52.947Z"
   },
   {
    "duration": 299,
    "start_time": "2024-07-08T09:37:53.470Z"
   },
   {
    "duration": 262,
    "start_time": "2024-07-08T09:37:53.771Z"
   },
   {
    "duration": 482,
    "start_time": "2024-07-08T09:37:54.036Z"
   },
   {
    "duration": 1524,
    "start_time": "2024-07-08T09:37:54.519Z"
   },
   {
    "duration": 141,
    "start_time": "2024-07-08T09:37:56.045Z"
   },
   {
    "duration": 94,
    "start_time": "2024-07-08T09:37:56.189Z"
   },
   {
    "duration": 55,
    "start_time": "2024-07-08T09:37:56.286Z"
   },
   {
    "duration": 2111,
    "start_time": "2024-07-08T09:37:56.342Z"
   },
   {
    "duration": 75,
    "start_time": "2024-07-08T09:37:58.455Z"
   },
   {
    "duration": 1633,
    "start_time": "2024-07-08T09:37:58.532Z"
   },
   {
    "duration": 13,
    "start_time": "2024-07-08T09:38:00.167Z"
   },
   {
    "duration": 5154,
    "start_time": "2024-07-08T09:38:00.182Z"
   },
   {
    "duration": 13,
    "start_time": "2024-07-08T09:38:05.337Z"
   },
   {
    "duration": 4138,
    "start_time": "2024-07-08T09:38:05.351Z"
   },
   {
    "duration": 49,
    "start_time": "2024-07-08T09:38:09.490Z"
   },
   {
    "duration": 7,
    "start_time": "2024-07-08T09:38:09.541Z"
   },
   {
    "duration": 83,
    "start_time": "2024-07-08T09:38:09.549Z"
   },
   {
    "duration": 4,
    "start_time": "2024-07-08T09:38:09.634Z"
   },
   {
    "duration": 32,
    "start_time": "2024-07-08T09:38:09.639Z"
   },
   {
    "duration": 54,
    "start_time": "2024-07-08T09:38:09.673Z"
   },
   {
    "duration": 5,
    "start_time": "2024-07-08T09:38:09.729Z"
   },
   {
    "duration": 6,
    "start_time": "2024-07-08T09:38:09.736Z"
   },
   {
    "duration": 123112,
    "start_time": "2024-07-08T09:38:09.743Z"
   },
   {
    "duration": 18,
    "start_time": "2024-07-08T09:40:12.857Z"
   },
   {
    "duration": 394,
    "start_time": "2024-07-08T09:40:12.877Z"
   },
   {
    "duration": 5,
    "start_time": "2024-07-08T09:40:13.272Z"
   },
   {
    "duration": 15,
    "start_time": "2024-07-08T10:20:40.597Z"
   },
   {
    "duration": 58,
    "start_time": "2024-07-08T10:21:03.164Z"
   },
   {
    "duration": 4,
    "start_time": "2024-07-08T10:21:10.873Z"
   },
   {
    "duration": 100,
    "start_time": "2024-07-08T10:21:13.834Z"
   },
   {
    "duration": 844,
    "start_time": "2024-07-08T10:21:45.444Z"
   },
   {
    "duration": 833,
    "start_time": "2024-07-08T10:24:03.390Z"
   },
   {
    "duration": 12,
    "start_time": "2024-07-08T10:27:53.054Z"
   },
   {
    "duration": 5,
    "start_time": "2024-07-08T10:28:58.467Z"
   },
   {
    "duration": 5,
    "start_time": "2024-07-08T10:29:11.493Z"
   },
   {
    "duration": 0,
    "start_time": "2024-07-08T10:29:45.491Z"
   },
   {
    "duration": 1,
    "start_time": "2024-07-08T10:29:45.492Z"
   },
   {
    "duration": 9969,
    "start_time": "2024-07-08T10:32:17.480Z"
   },
   {
    "duration": 1336,
    "start_time": "2024-07-08T10:32:27.451Z"
   },
   {
    "duration": 1103,
    "start_time": "2024-07-08T10:32:28.789Z"
   },
   {
    "duration": 164,
    "start_time": "2024-07-08T10:32:29.894Z"
   },
   {
    "duration": 171,
    "start_time": "2024-07-08T10:32:30.064Z"
   },
   {
    "duration": 137,
    "start_time": "2024-07-08T10:32:30.237Z"
   },
   {
    "duration": 344,
    "start_time": "2024-07-08T10:32:30.376Z"
   },
   {
    "duration": 272,
    "start_time": "2024-07-08T10:32:30.721Z"
   },
   {
    "duration": 593,
    "start_time": "2024-07-08T10:32:30.996Z"
   },
   {
    "duration": 1529,
    "start_time": "2024-07-08T10:32:31.591Z"
   },
   {
    "duration": 167,
    "start_time": "2024-07-08T10:32:33.122Z"
   },
   {
    "duration": 104,
    "start_time": "2024-07-08T10:32:33.291Z"
   },
   {
    "duration": 55,
    "start_time": "2024-07-08T10:32:33.397Z"
   },
   {
    "duration": 2215,
    "start_time": "2024-07-08T10:32:33.455Z"
   },
   {
    "duration": 64,
    "start_time": "2024-07-08T10:32:35.672Z"
   },
   {
    "duration": 1551,
    "start_time": "2024-07-08T10:32:35.738Z"
   },
   {
    "duration": 14,
    "start_time": "2024-07-08T10:32:37.291Z"
   },
   {
    "duration": 5121,
    "start_time": "2024-07-08T10:32:37.307Z"
   },
   {
    "duration": 14,
    "start_time": "2024-07-08T10:32:42.430Z"
   },
   {
    "duration": 4207,
    "start_time": "2024-07-08T10:32:42.446Z"
   },
   {
    "duration": 54,
    "start_time": "2024-07-08T10:32:46.655Z"
   },
   {
    "duration": 6,
    "start_time": "2024-07-08T10:32:46.711Z"
   },
   {
    "duration": 83,
    "start_time": "2024-07-08T10:32:46.719Z"
   },
   {
    "duration": 4,
    "start_time": "2024-07-08T10:32:46.803Z"
   },
   {
    "duration": 17,
    "start_time": "2024-07-08T10:32:46.809Z"
   },
   {
    "duration": 4,
    "start_time": "2024-07-08T10:32:46.827Z"
   },
   {
    "duration": 33,
    "start_time": "2024-07-08T10:32:46.832Z"
   },
   {
    "duration": 5,
    "start_time": "2024-07-08T10:32:46.867Z"
   },
   {
    "duration": 125651,
    "start_time": "2024-07-08T10:32:46.873Z"
   },
   {
    "duration": 16,
    "start_time": "2024-07-08T10:34:52.526Z"
   },
   {
    "duration": 399,
    "start_time": "2024-07-08T10:34:52.544Z"
   },
   {
    "duration": 4,
    "start_time": "2024-07-08T10:34:52.945Z"
   },
   {
    "duration": 19,
    "start_time": "2024-07-08T10:34:52.951Z"
   },
   {
    "duration": 372556,
    "start_time": "2024-07-08T10:34:52.972Z"
   },
   {
    "duration": 77,
    "start_time": "2024-07-08T10:41:05.530Z"
   },
   {
    "duration": 200,
    "start_time": "2024-07-08T10:41:05.609Z"
   },
   {
    "duration": 13,
    "start_time": "2024-07-08T10:41:05.811Z"
   },
   {
    "duration": 5,
    "start_time": "2024-07-08T10:51:12.591Z"
   },
   {
    "duration": 28,
    "start_time": "2024-07-08T10:51:15.414Z"
   },
   {
    "duration": 4,
    "start_time": "2024-07-08T10:52:33.108Z"
   },
   {
    "duration": 808,
    "start_time": "2024-07-08T10:52:35.896Z"
   },
   {
    "duration": 12,
    "start_time": "2024-07-08T10:52:36.706Z"
   },
   {
    "duration": 4,
    "start_time": "2024-07-08T10:53:02.012Z"
   },
   {
    "duration": 6,
    "start_time": "2024-07-08T10:55:42.141Z"
   },
   {
    "duration": 13204,
    "start_time": "2024-07-08T10:55:45.627Z"
   },
   {
    "duration": 378380,
    "start_time": "2024-07-08T10:56:45.391Z"
   },
   {
    "duration": 205,
    "start_time": "2024-07-08T11:03:03.773Z"
   },
   {
    "duration": 9756,
    "start_time": "2024-07-08T11:16:18.094Z"
   },
   {
    "duration": 1384,
    "start_time": "2024-07-08T11:16:27.853Z"
   },
   {
    "duration": 1085,
    "start_time": "2024-07-08T11:16:29.239Z"
   },
   {
    "duration": 184,
    "start_time": "2024-07-08T11:16:30.326Z"
   },
   {
    "duration": 199,
    "start_time": "2024-07-08T11:16:30.513Z"
   },
   {
    "duration": 120,
    "start_time": "2024-07-08T11:16:30.713Z"
   },
   {
    "duration": 462,
    "start_time": "2024-07-08T11:16:30.835Z"
   },
   {
    "duration": 262,
    "start_time": "2024-07-08T11:16:31.298Z"
   },
   {
    "duration": 595,
    "start_time": "2024-07-08T11:16:31.564Z"
   },
   {
    "duration": 1657,
    "start_time": "2024-07-08T11:16:32.161Z"
   },
   {
    "duration": 126,
    "start_time": "2024-07-08T11:16:33.819Z"
   },
   {
    "duration": 90,
    "start_time": "2024-07-08T11:16:33.946Z"
   },
   {
    "duration": 55,
    "start_time": "2024-07-08T11:16:34.038Z"
   },
   {
    "duration": 2127,
    "start_time": "2024-07-08T11:16:34.096Z"
   },
   {
    "duration": 79,
    "start_time": "2024-07-08T11:16:36.224Z"
   },
   {
    "duration": 1625,
    "start_time": "2024-07-08T11:16:36.304Z"
   },
   {
    "duration": 13,
    "start_time": "2024-07-08T11:16:37.930Z"
   },
   {
    "duration": 5131,
    "start_time": "2024-07-08T11:16:37.945Z"
   },
   {
    "duration": 14,
    "start_time": "2024-07-08T11:16:43.078Z"
   },
   {
    "duration": 4117,
    "start_time": "2024-07-08T11:16:43.094Z"
   },
   {
    "duration": 79,
    "start_time": "2024-07-08T11:16:47.213Z"
   },
   {
    "duration": 6,
    "start_time": "2024-07-08T11:16:47.294Z"
   },
   {
    "duration": 91,
    "start_time": "2024-07-08T11:16:47.301Z"
   },
   {
    "duration": 3,
    "start_time": "2024-07-08T11:16:47.394Z"
   },
   {
    "duration": 11,
    "start_time": "2024-07-08T11:16:47.398Z"
   },
   {
    "duration": 3,
    "start_time": "2024-07-08T11:16:47.410Z"
   },
   {
    "duration": 3,
    "start_time": "2024-07-08T11:16:47.415Z"
   },
   {
    "duration": 5,
    "start_time": "2024-07-08T11:16:47.420Z"
   },
   {
    "duration": 125046,
    "start_time": "2024-07-08T11:16:47.426Z"
   },
   {
    "duration": 16,
    "start_time": "2024-07-08T11:18:52.473Z"
   },
   {
    "duration": 382,
    "start_time": "2024-07-08T11:18:52.491Z"
   },
   {
    "duration": 4,
    "start_time": "2024-07-08T11:18:52.875Z"
   },
   {
    "duration": 36,
    "start_time": "2024-07-08T11:18:52.881Z"
   },
   {
    "duration": 365091,
    "start_time": "2024-07-08T11:18:52.919Z"
   },
   {
    "duration": 3,
    "start_time": "2024-07-08T11:24:58.012Z"
   },
   {
    "duration": 75,
    "start_time": "2024-07-08T11:24:58.016Z"
   },
   {
    "duration": 22,
    "start_time": "2024-07-08T11:24:58.093Z"
   },
   {
    "duration": 5,
    "start_time": "2024-07-08T11:24:58.116Z"
   },
   {
    "duration": 372261,
    "start_time": "2024-07-08T11:24:58.123Z"
   },
   {
    "duration": 9,
    "start_time": "2024-07-08T11:31:10.386Z"
   },
   {
    "duration": 71,
    "start_time": "2024-07-08T11:31:10.465Z"
   },
   {
    "duration": 5,
    "start_time": "2024-07-08T11:31:10.538Z"
   },
   {
    "duration": 4,
    "start_time": "2024-07-08T11:40:59.736Z"
   },
   {
    "duration": 4,
    "start_time": "2024-07-08T11:41:46.674Z"
   },
   {
    "duration": 10144,
    "start_time": "2024-07-08T12:47:07.100Z"
   },
   {
    "duration": 6,
    "start_time": "2024-07-08T12:47:17.247Z"
   },
   {
    "duration": 1095,
    "start_time": "2024-07-08T12:47:17.255Z"
   },
   {
    "duration": 148,
    "start_time": "2024-07-08T12:47:18.353Z"
   },
   {
    "duration": 153,
    "start_time": "2024-07-08T12:47:18.502Z"
   },
   {
    "duration": 127,
    "start_time": "2024-07-08T12:47:18.657Z"
   },
   {
    "duration": 372,
    "start_time": "2024-07-08T12:47:18.785Z"
   },
   {
    "duration": 251,
    "start_time": "2024-07-08T12:47:19.158Z"
   },
   {
    "duration": 544,
    "start_time": "2024-07-08T12:47:19.411Z"
   },
   {
    "duration": 1700,
    "start_time": "2024-07-08T12:47:19.958Z"
   },
   {
    "duration": 124,
    "start_time": "2024-07-08T12:47:21.665Z"
   },
   {
    "duration": 94,
    "start_time": "2024-07-08T12:47:21.790Z"
   },
   {
    "duration": 44,
    "start_time": "2024-07-08T12:47:21.886Z"
   },
   {
    "duration": 2191,
    "start_time": "2024-07-08T12:47:21.931Z"
   },
   {
    "duration": 24,
    "start_time": "2024-07-08T12:47:24.124Z"
   },
   {
    "duration": 36,
    "start_time": "2024-07-08T12:47:24.150Z"
   },
   {
    "duration": 30,
    "start_time": "2024-07-08T12:47:24.188Z"
   },
   {
    "duration": 1633,
    "start_time": "2024-07-08T12:47:24.220Z"
   },
   {
    "duration": 36,
    "start_time": "2024-07-08T12:47:25.856Z"
   },
   {
    "duration": 6,
    "start_time": "2024-07-08T12:47:25.894Z"
   },
   {
    "duration": 61686,
    "start_time": "2024-07-08T12:47:29.486Z"
   },
   {
    "duration": 12,
    "start_time": "2024-07-08T12:51:09.024Z"
   },
   {
    "duration": 4891,
    "start_time": "2024-07-08T12:51:10.497Z"
   },
   {
    "duration": 7,
    "start_time": "2024-07-08T12:51:42.689Z"
   },
   {
    "duration": 59807,
    "start_time": "2024-07-08T12:51:46.799Z"
   },
   {
    "duration": 95,
    "start_time": "2024-07-08T12:52:51.231Z"
   },
   {
    "duration": 124,
    "start_time": "2024-07-08T12:53:28.270Z"
   },
   {
    "duration": 87,
    "start_time": "2024-07-08T12:53:52.327Z"
   },
   {
    "duration": 109,
    "start_time": "2024-07-08T13:09:13.487Z"
   },
   {
    "duration": 9,
    "start_time": "2024-07-08T13:12:07.689Z"
   },
   {
    "duration": 94,
    "start_time": "2024-07-08T13:12:34.502Z"
   },
   {
    "duration": 51,
    "start_time": "2024-07-08T13:12:38.442Z"
   },
   {
    "duration": 9832,
    "start_time": "2024-07-08T13:19:33.488Z"
   },
   {
    "duration": 1275,
    "start_time": "2024-07-08T13:19:43.323Z"
   },
   {
    "duration": 1124,
    "start_time": "2024-07-08T13:19:44.599Z"
   },
   {
    "duration": 151,
    "start_time": "2024-07-08T13:19:45.725Z"
   },
   {
    "duration": 163,
    "start_time": "2024-07-08T13:19:45.878Z"
   },
   {
    "duration": 139,
    "start_time": "2024-07-08T13:19:46.043Z"
   },
   {
    "duration": 381,
    "start_time": "2024-07-08T13:19:46.183Z"
   },
   {
    "duration": 283,
    "start_time": "2024-07-08T13:19:46.565Z"
   },
   {
    "duration": 582,
    "start_time": "2024-07-08T13:19:46.849Z"
   },
   {
    "duration": 1695,
    "start_time": "2024-07-08T13:19:47.433Z"
   },
   {
    "duration": 124,
    "start_time": "2024-07-08T13:19:49.130Z"
   },
   {
    "duration": 89,
    "start_time": "2024-07-08T13:19:49.255Z"
   },
   {
    "duration": 58,
    "start_time": "2024-07-08T13:19:49.346Z"
   },
   {
    "duration": 2196,
    "start_time": "2024-07-08T13:19:49.406Z"
   },
   {
    "duration": 31,
    "start_time": "2024-07-08T13:19:51.605Z"
   },
   {
    "duration": 33,
    "start_time": "2024-07-08T13:19:51.638Z"
   },
   {
    "duration": 21,
    "start_time": "2024-07-08T13:19:51.673Z"
   },
   {
    "duration": 1625,
    "start_time": "2024-07-08T13:19:51.696Z"
   },
   {
    "duration": 45,
    "start_time": "2024-07-08T13:19:53.323Z"
   },
   {
    "duration": 7,
    "start_time": "2024-07-08T13:19:53.370Z"
   },
   {
    "duration": 61825,
    "start_time": "2024-07-08T13:19:53.379Z"
   },
   {
    "duration": 18,
    "start_time": "2024-07-08T13:20:55.206Z"
   },
   {
    "duration": 59589,
    "start_time": "2024-07-08T13:20:55.225Z"
   },
   {
    "duration": 98,
    "start_time": "2024-07-08T13:21:54.815Z"
   },
   {
    "duration": 115,
    "start_time": "2024-07-08T13:21:54.914Z"
   },
   {
    "duration": 83,
    "start_time": "2024-07-08T13:21:55.031Z"
   },
   {
    "duration": 54,
    "start_time": "2024-07-08T13:21:55.115Z"
   },
   {
    "duration": 6,
    "start_time": "2024-07-08T13:21:55.172Z"
   },
   {
    "duration": 57,
    "start_time": "2024-07-08T13:21:55.179Z"
   },
   {
    "duration": 3,
    "start_time": "2024-07-08T13:21:55.238Z"
   },
   {
    "duration": 34,
    "start_time": "2024-07-08T13:21:55.243Z"
   },
   {
    "duration": 16,
    "start_time": "2024-07-08T13:21:55.278Z"
   },
   {
    "duration": 10,
    "start_time": "2024-07-08T13:21:55.296Z"
   },
   {
    "duration": 11,
    "start_time": "2024-07-08T13:21:55.308Z"
   },
   {
    "duration": 104076,
    "start_time": "2024-07-08T13:21:55.321Z"
   },
   {
    "duration": 16,
    "start_time": "2024-07-08T13:23:39.399Z"
   },
   {
    "duration": 264,
    "start_time": "2024-07-08T13:23:39.416Z"
   },
   {
    "duration": 5,
    "start_time": "2024-07-08T13:23:39.682Z"
   },
   {
    "duration": 11,
    "start_time": "2024-07-08T13:23:39.689Z"
   },
   {
    "duration": 322546,
    "start_time": "2024-07-08T13:23:39.703Z"
   },
   {
    "duration": 4,
    "start_time": "2024-07-08T13:29:02.250Z"
   },
   {
    "duration": 57,
    "start_time": "2024-07-08T13:29:02.256Z"
   },
   {
    "duration": 30,
    "start_time": "2024-07-08T13:29:02.315Z"
   },
   {
    "duration": 22,
    "start_time": "2024-07-08T13:29:02.346Z"
   },
   {
    "duration": 415319,
    "start_time": "2024-07-08T13:29:02.369Z"
   },
   {
    "duration": 77,
    "start_time": "2024-07-08T13:35:57.691Z"
   },
   {
    "duration": 55,
    "start_time": "2024-07-08T13:35:57.769Z"
   },
   {
    "duration": 5,
    "start_time": "2024-07-08T13:35:57.826Z"
   },
   {
    "duration": 127,
    "start_time": "2024-07-08T13:35:57.832Z"
   },
   {
    "duration": 10,
    "start_time": "2024-07-08T13:44:27.785Z"
   },
   {
    "duration": 13,
    "start_time": "2024-07-08T13:46:03.437Z"
   },
   {
    "duration": 13,
    "start_time": "2024-07-08T13:47:34.556Z"
   },
   {
    "duration": 14,
    "start_time": "2024-07-08T13:47:50.312Z"
   },
   {
    "duration": 11,
    "start_time": "2024-07-08T13:55:16.992Z"
   },
   {
    "duration": 11,
    "start_time": "2024-07-08T13:56:39.218Z"
   },
   {
    "duration": 470,
    "start_time": "2024-07-08T13:59:05.908Z"
   },
   {
    "duration": 417,
    "start_time": "2024-07-08T13:59:52.852Z"
   },
   {
    "duration": 421,
    "start_time": "2024-07-08T14:00:16.949Z"
   },
   {
    "duration": 440,
    "start_time": "2024-07-08T14:02:27.737Z"
   },
   {
    "duration": 497,
    "start_time": "2024-07-08T14:04:33.771Z"
   },
   {
    "duration": 5,
    "start_time": "2024-07-08T14:06:33.575Z"
   },
   {
    "duration": 122,
    "start_time": "2024-07-08T14:08:10.656Z"
   },
   {
    "duration": 12,
    "start_time": "2024-07-08T14:08:28.060Z"
   },
   {
    "duration": 435,
    "start_time": "2024-07-08T14:09:38.838Z"
   },
   {
    "duration": 5,
    "start_time": "2024-07-08T14:15:15.399Z"
   },
   {
    "duration": 4,
    "start_time": "2024-07-08T14:17:21.365Z"
   },
   {
    "duration": 3,
    "start_time": "2024-07-08T14:18:21.537Z"
   },
   {
    "duration": 4,
    "start_time": "2024-07-08T14:18:48.642Z"
   },
   {
    "duration": 62,
    "start_time": "2024-07-08T14:19:51.417Z"
   },
   {
    "duration": 72,
    "start_time": "2024-07-08T14:20:03.094Z"
   },
   {
    "duration": 59,
    "start_time": "2024-07-08T14:20:07.125Z"
   },
   {
    "duration": 505,
    "start_time": "2024-07-08T14:20:30.666Z"
   },
   {
    "duration": 380,
    "start_time": "2024-07-08T14:21:34.604Z"
   },
   {
    "duration": 483,
    "start_time": "2024-07-08T14:21:38.189Z"
   },
   {
    "duration": 440,
    "start_time": "2024-07-08T14:21:55.637Z"
   },
   {
    "duration": 422,
    "start_time": "2024-07-08T14:22:20.556Z"
   },
   {
    "duration": 453,
    "start_time": "2024-07-08T14:22:39.423Z"
   },
   {
    "duration": 495,
    "start_time": "2024-07-08T14:22:47.271Z"
   },
   {
    "duration": 13,
    "start_time": "2024-07-08T14:26:57.654Z"
   },
   {
    "duration": 9,
    "start_time": "2024-07-08T14:27:01.038Z"
   },
   {
    "duration": 2,
    "start_time": "2024-07-08T14:27:13.227Z"
   },
   {
    "duration": 5,
    "start_time": "2024-07-08T14:27:21.063Z"
   },
   {
    "duration": 19,
    "start_time": "2024-07-08T14:28:17.014Z"
   },
   {
    "duration": 17,
    "start_time": "2024-07-08T14:28:17.935Z"
   },
   {
    "duration": 5,
    "start_time": "2024-07-08T14:28:26.174Z"
   },
   {
    "duration": 68,
    "start_time": "2024-07-08T14:33:21.657Z"
   },
   {
    "duration": 60,
    "start_time": "2024-07-08T14:33:24.336Z"
   },
   {
    "duration": 9562,
    "start_time": "2024-07-08T14:34:06.361Z"
   },
   {
    "duration": 1275,
    "start_time": "2024-07-08T14:34:15.926Z"
   },
   {
    "duration": 1092,
    "start_time": "2024-07-08T14:34:17.203Z"
   },
   {
    "duration": 156,
    "start_time": "2024-07-08T14:34:18.297Z"
   },
   {
    "duration": 171,
    "start_time": "2024-07-08T14:34:18.455Z"
   },
   {
    "duration": 124,
    "start_time": "2024-07-08T14:34:18.628Z"
   },
   {
    "duration": 354,
    "start_time": "2024-07-08T14:34:18.753Z"
   },
   {
    "duration": 266,
    "start_time": "2024-07-08T14:34:19.109Z"
   },
   {
    "duration": 582,
    "start_time": "2024-07-08T14:34:19.377Z"
   },
   {
    "duration": 1542,
    "start_time": "2024-07-08T14:34:19.961Z"
   },
   {
    "duration": 116,
    "start_time": "2024-07-08T14:34:21.505Z"
   },
   {
    "duration": 88,
    "start_time": "2024-07-08T14:34:21.623Z"
   },
   {
    "duration": 53,
    "start_time": "2024-07-08T14:34:21.713Z"
   },
   {
    "duration": 2041,
    "start_time": "2024-07-08T14:34:21.768Z"
   },
   {
    "duration": 29,
    "start_time": "2024-07-08T14:34:23.811Z"
   },
   {
    "duration": 35,
    "start_time": "2024-07-08T14:34:23.842Z"
   },
   {
    "duration": 21,
    "start_time": "2024-07-08T14:34:23.879Z"
   },
   {
    "duration": 1540,
    "start_time": "2024-07-08T14:34:23.902Z"
   },
   {
    "duration": 44,
    "start_time": "2024-07-08T14:34:25.444Z"
   },
   {
    "duration": 7,
    "start_time": "2024-07-08T14:34:25.490Z"
   },
   {
    "duration": 60397,
    "start_time": "2024-07-08T14:34:25.499Z"
   },
   {
    "duration": 17,
    "start_time": "2024-07-08T14:35:25.897Z"
   },
   {
    "duration": 58108,
    "start_time": "2024-07-08T14:35:25.917Z"
   },
   {
    "duration": 100,
    "start_time": "2024-07-08T14:36:24.027Z"
   },
   {
    "duration": 123,
    "start_time": "2024-07-08T14:36:24.128Z"
   },
   {
    "duration": 91,
    "start_time": "2024-07-08T14:36:24.253Z"
   },
   {
    "duration": 60,
    "start_time": "2024-07-08T14:36:24.345Z"
   },
   {
    "duration": 5,
    "start_time": "2024-07-08T14:36:24.409Z"
   },
   {
    "duration": 62,
    "start_time": "2024-07-08T14:36:24.416Z"
   },
   {
    "duration": 3,
    "start_time": "2024-07-08T14:36:24.480Z"
   },
   {
    "duration": 15,
    "start_time": "2024-07-08T14:36:24.484Z"
   },
   {
    "duration": 7,
    "start_time": "2024-07-08T14:36:24.501Z"
   },
   {
    "duration": 85,
    "start_time": "2024-07-08T14:36:24.510Z"
   },
   {
    "duration": 5,
    "start_time": "2024-07-08T14:36:24.597Z"
   },
   {
    "duration": 101838,
    "start_time": "2024-07-08T14:36:24.603Z"
   },
   {
    "duration": 15,
    "start_time": "2024-07-08T14:38:06.443Z"
   },
   {
    "duration": 251,
    "start_time": "2024-07-08T14:38:06.465Z"
   },
   {
    "duration": 5,
    "start_time": "2024-07-08T14:38:06.718Z"
   },
   {
    "duration": 31,
    "start_time": "2024-07-08T14:38:06.726Z"
   },
   {
    "duration": 319728,
    "start_time": "2024-07-08T14:38:06.759Z"
   },
   {
    "duration": 4,
    "start_time": "2024-07-08T14:43:26.488Z"
   },
   {
    "duration": 49,
    "start_time": "2024-07-08T14:43:26.493Z"
   },
   {
    "duration": 27,
    "start_time": "2024-07-08T14:43:26.544Z"
   },
   {
    "duration": 8,
    "start_time": "2024-07-08T14:43:26.573Z"
   },
   {
    "duration": 357800,
    "start_time": "2024-07-08T14:43:26.583Z"
   },
   {
    "duration": 9,
    "start_time": "2024-07-08T14:49:24.384Z"
   },
   {
    "duration": 108,
    "start_time": "2024-07-08T14:49:24.394Z"
   },
   {
    "duration": 4,
    "start_time": "2024-07-08T14:49:24.504Z"
   },
   {
    "duration": 470,
    "start_time": "2024-07-08T14:49:24.509Z"
   },
   {
    "duration": 18,
    "start_time": "2024-07-08T14:49:24.981Z"
   },
   {
    "duration": 4,
    "start_time": "2024-07-08T14:49:25.001Z"
   },
   {
    "duration": 14171,
    "start_time": "2024-07-09T09:10:07.140Z"
   },
   {
    "duration": 1476,
    "start_time": "2024-07-09T09:10:21.313Z"
   },
   {
    "duration": 3107,
    "start_time": "2024-07-09T09:10:22.791Z"
   },
   {
    "duration": 144,
    "start_time": "2024-07-09T09:10:25.899Z"
   },
   {
    "duration": 163,
    "start_time": "2024-07-09T09:10:26.044Z"
   },
   {
    "duration": 119,
    "start_time": "2024-07-09T09:10:26.209Z"
   },
   {
    "duration": 314,
    "start_time": "2024-07-09T09:10:26.329Z"
   },
   {
    "duration": 236,
    "start_time": "2024-07-09T09:10:26.645Z"
   },
   {
    "duration": 561,
    "start_time": "2024-07-09T09:10:26.883Z"
   },
   {
    "duration": 1598,
    "start_time": "2024-07-09T09:10:27.447Z"
   },
   {
    "duration": 111,
    "start_time": "2024-07-09T09:10:29.047Z"
   },
   {
    "duration": 82,
    "start_time": "2024-07-09T09:10:29.160Z"
   },
   {
    "duration": 47,
    "start_time": "2024-07-09T09:10:29.243Z"
   },
   {
    "duration": 2016,
    "start_time": "2024-07-09T09:10:29.291Z"
   },
   {
    "duration": 37,
    "start_time": "2024-07-09T09:10:31.308Z"
   },
   {
    "duration": 33,
    "start_time": "2024-07-09T09:10:31.346Z"
   },
   {
    "duration": 52,
    "start_time": "2024-07-09T09:10:31.380Z"
   },
   {
    "duration": 1566,
    "start_time": "2024-07-09T09:10:31.434Z"
   },
   {
    "duration": 42,
    "start_time": "2024-07-09T09:10:33.002Z"
   },
   {
    "duration": 6,
    "start_time": "2024-07-09T09:10:33.046Z"
   },
   {
    "duration": 5124,
    "start_time": "2024-07-09T09:10:33.055Z"
   },
   {
    "duration": 14,
    "start_time": "2024-07-09T09:10:38.181Z"
   },
   {
    "duration": 4459,
    "start_time": "2024-07-09T09:10:38.196Z"
   },
   {
    "duration": 117,
    "start_time": "2024-07-09T09:10:42.658Z"
   },
   {
    "duration": 114,
    "start_time": "2024-07-09T09:10:42.777Z"
   },
   {
    "duration": 86,
    "start_time": "2024-07-09T09:10:42.892Z"
   },
   {
    "duration": 47,
    "start_time": "2024-07-09T09:10:42.979Z"
   },
   {
    "duration": 14,
    "start_time": "2024-07-09T09:10:43.028Z"
   },
   {
    "duration": 83,
    "start_time": "2024-07-09T09:10:43.043Z"
   },
   {
    "duration": 3,
    "start_time": "2024-07-09T09:10:43.127Z"
   },
   {
    "duration": 10,
    "start_time": "2024-07-09T09:10:43.246Z"
   },
   {
    "duration": 3,
    "start_time": "2024-07-09T09:10:43.736Z"
   },
   {
    "duration": 3,
    "start_time": "2024-07-09T09:10:44.804Z"
   },
   {
    "duration": 4,
    "start_time": "2024-07-09T09:10:45.462Z"
   },
   {
    "duration": 98191,
    "start_time": "2024-07-09T09:10:46.351Z"
   },
   {
    "duration": 15,
    "start_time": "2024-07-09T09:12:24.544Z"
   },
   {
    "duration": 258,
    "start_time": "2024-07-09T09:12:24.561Z"
   },
   {
    "duration": 117,
    "start_time": "2024-07-09T09:12:24.821Z"
   },
   {
    "duration": 0,
    "start_time": "2024-07-09T09:12:24.940Z"
   },
   {
    "duration": 4,
    "start_time": "2024-07-09T09:13:42.574Z"
   },
   {
    "duration": 379097,
    "start_time": "2024-07-09T09:13:52.530Z"
   },
   {
    "duration": 4,
    "start_time": "2024-07-09T09:20:44.304Z"
   },
   {
    "duration": 4,
    "start_time": "2024-07-09T09:21:01.291Z"
   },
   {
    "duration": 38,
    "start_time": "2024-07-09T09:21:45.290Z"
   },
   {
    "duration": 886,
    "start_time": "2024-07-09T09:22:27.605Z"
   },
   {
    "duration": 4,
    "start_time": "2024-07-09T09:27:54.185Z"
   },
   {
    "duration": 313210,
    "start_time": "2024-07-09T09:27:54.970Z"
   },
   {
    "duration": 4,
    "start_time": "2024-07-09T09:33:08.181Z"
   },
   {
    "duration": 81368,
    "start_time": "2024-07-09T09:33:08.186Z"
   },
   {
    "duration": 3,
    "start_time": "2024-07-09T09:34:29.556Z"
   },
   {
    "duration": 19,
    "start_time": "2024-07-09T09:34:29.561Z"
   },
   {
    "duration": 3,
    "start_time": "2024-07-09T09:37:50.166Z"
   },
   {
    "duration": 77848,
    "start_time": "2024-07-09T09:53:03.996Z"
   },
   {
    "duration": 4,
    "start_time": "2024-07-09T09:54:21.846Z"
   },
   {
    "duration": 12,
    "start_time": "2024-07-09T09:56:19.314Z"
   },
   {
    "duration": 162,
    "start_time": "2024-07-09T09:57:14.309Z"
   },
   {
    "duration": 4,
    "start_time": "2024-07-09T09:57:14.892Z"
   },
   {
    "duration": 12,
    "start_time": "2024-07-09T10:20:19.417Z"
   },
   {
    "duration": 3,
    "start_time": "2024-07-09T10:23:58.576Z"
   },
   {
    "duration": 3,
    "start_time": "2024-07-09T10:25:54.082Z"
   },
   {
    "duration": 1411,
    "start_time": "2024-07-09T10:25:54.744Z"
   },
   {
    "duration": 3,
    "start_time": "2024-07-09T10:26:00.675Z"
   },
   {
    "duration": 4,
    "start_time": "2024-07-09T10:26:13.491Z"
   },
   {
    "duration": 168,
    "start_time": "2024-07-09T10:26:14.369Z"
   },
   {
    "duration": 5,
    "start_time": "2024-07-09T10:26:15.124Z"
   },
   {
    "duration": 1616,
    "start_time": "2024-07-09T10:33:34.699Z"
   },
   {
    "duration": 1577,
    "start_time": "2024-07-09T10:33:41.852Z"
   },
   {
    "duration": 3300,
    "start_time": "2024-07-09T10:33:48.874Z"
   },
   {
    "duration": 1657,
    "start_time": "2024-07-09T10:34:41.473Z"
   },
   {
    "duration": 68,
    "start_time": "2024-07-09T10:37:03.244Z"
   },
   {
    "duration": 24506,
    "start_time": "2024-07-09T10:37:25.832Z"
   },
   {
    "duration": 4,
    "start_time": "2024-07-09T10:38:57.989Z"
   },
   {
    "duration": 23927,
    "start_time": "2024-07-09T10:48:02.571Z"
   },
   {
    "duration": 4,
    "start_time": "2024-07-09T10:48:42.740Z"
   },
   {
    "duration": 4,
    "start_time": "2024-07-09T10:48:46.129Z"
   },
   {
    "duration": 24332,
    "start_time": "2024-07-09T10:48:48.247Z"
   },
   {
    "duration": 0,
    "start_time": "2024-07-09T10:55:57.964Z"
   },
   {
    "duration": 0,
    "start_time": "2024-07-09T10:55:57.965Z"
   },
   {
    "duration": 0,
    "start_time": "2024-07-09T10:55:57.966Z"
   },
   {
    "duration": 0,
    "start_time": "2024-07-09T10:55:57.967Z"
   },
   {
    "duration": 0,
    "start_time": "2024-07-09T10:55:57.968Z"
   },
   {
    "duration": 0,
    "start_time": "2024-07-09T10:55:57.969Z"
   },
   {
    "duration": 0,
    "start_time": "2024-07-09T10:55:57.969Z"
   },
   {
    "duration": 5,
    "start_time": "2024-07-09T10:56:52.136Z"
   },
   {
    "duration": 350411,
    "start_time": "2024-07-09T10:56:52.444Z"
   },
   {
    "duration": 11,
    "start_time": "2024-07-09T11:02:42.857Z"
   },
   {
    "duration": 33,
    "start_time": "2024-07-09T11:02:42.869Z"
   },
   {
    "duration": 0,
    "start_time": "2024-07-09T11:13:44.848Z"
   },
   {
    "duration": 0,
    "start_time": "2024-07-09T11:13:44.849Z"
   },
   {
    "duration": 0,
    "start_time": "2024-07-09T11:13:44.851Z"
   },
   {
    "duration": 0,
    "start_time": "2024-07-09T11:13:44.852Z"
   },
   {
    "duration": 4,
    "start_time": "2024-07-09T11:13:47.337Z"
   },
   {
    "duration": 44,
    "start_time": "2024-07-09T11:13:49.762Z"
   },
   {
    "duration": 124647,
    "start_time": "2024-07-09T11:13:59.128Z"
   },
   {
    "duration": 0,
    "start_time": "2024-07-09T11:16:03.777Z"
   },
   {
    "duration": 50,
    "start_time": "2024-07-09T11:16:05.270Z"
   },
   {
    "duration": 180,
    "start_time": "2024-07-09T11:16:08.037Z"
   },
   {
    "duration": 19905,
    "start_time": "2024-07-09T11:20:25.137Z"
   },
   {
    "duration": 20008,
    "start_time": "2024-07-09T11:21:14.946Z"
   },
   {
    "duration": 617,
    "start_time": "2024-07-09T11:24:33.730Z"
   },
   {
    "duration": 1648,
    "start_time": "2024-07-09T11:25:49.204Z"
   },
   {
    "duration": 62,
    "start_time": "2024-07-09T11:26:07.124Z"
   },
   {
    "duration": 1627,
    "start_time": "2024-07-09T11:26:17.408Z"
   },
   {
    "duration": 1561,
    "start_time": "2024-07-09T11:26:46.595Z"
   },
   {
    "duration": 625,
    "start_time": "2024-07-09T11:27:07.432Z"
   },
   {
    "duration": 632,
    "start_time": "2024-07-09T11:27:44.114Z"
   },
   {
    "duration": 11,
    "start_time": "2024-07-09T11:33:26.425Z"
   },
   {
    "duration": 607,
    "start_time": "2024-07-09T11:33:32.646Z"
   },
   {
    "duration": 4,
    "start_time": "2024-07-09T11:34:15.875Z"
   },
   {
    "duration": 62338,
    "start_time": "2024-07-09T11:34:20.142Z"
   },
   {
    "duration": 0,
    "start_time": "2024-07-09T11:35:22.482Z"
   },
   {
    "duration": 0,
    "start_time": "2024-07-09T11:35:22.483Z"
   },
   {
    "duration": 17614,
    "start_time": "2024-07-09T11:35:24.229Z"
   },
   {
    "duration": 228,
    "start_time": "2024-07-09T11:36:26.994Z"
   },
   {
    "duration": 9180,
    "start_time": "2024-07-09T11:37:24.739Z"
   },
   {
    "duration": 1242,
    "start_time": "2024-07-09T11:37:33.921Z"
   },
   {
    "duration": 988,
    "start_time": "2024-07-09T11:37:35.165Z"
   },
   {
    "duration": 157,
    "start_time": "2024-07-09T11:37:36.155Z"
   },
   {
    "duration": 159,
    "start_time": "2024-07-09T11:37:36.313Z"
   },
   {
    "duration": 121,
    "start_time": "2024-07-09T11:37:36.474Z"
   },
   {
    "duration": 315,
    "start_time": "2024-07-09T11:37:36.597Z"
   },
   {
    "duration": 242,
    "start_time": "2024-07-09T11:37:36.914Z"
   },
   {
    "duration": 539,
    "start_time": "2024-07-09T11:37:37.157Z"
   },
   {
    "duration": 1426,
    "start_time": "2024-07-09T11:37:37.698Z"
   },
   {
    "duration": 129,
    "start_time": "2024-07-09T11:37:39.125Z"
   },
   {
    "duration": 91,
    "start_time": "2024-07-09T11:37:39.255Z"
   },
   {
    "duration": 48,
    "start_time": "2024-07-09T11:37:39.347Z"
   },
   {
    "duration": 1865,
    "start_time": "2024-07-09T11:37:39.396Z"
   },
   {
    "duration": 29,
    "start_time": "2024-07-09T11:37:41.262Z"
   },
   {
    "duration": 38,
    "start_time": "2024-07-09T11:37:41.292Z"
   },
   {
    "duration": 59,
    "start_time": "2024-07-09T11:37:41.331Z"
   },
   {
    "duration": 1400,
    "start_time": "2024-07-09T11:37:41.391Z"
   },
   {
    "duration": 33,
    "start_time": "2024-07-09T11:37:42.792Z"
   },
   {
    "duration": 6,
    "start_time": "2024-07-09T11:37:42.837Z"
   },
   {
    "duration": 5091,
    "start_time": "2024-07-09T11:37:42.844Z"
   },
   {
    "duration": 14,
    "start_time": "2024-07-09T11:37:47.936Z"
   },
   {
    "duration": 4325,
    "start_time": "2024-07-09T11:37:47.951Z"
   },
   {
    "duration": 97,
    "start_time": "2024-07-09T11:37:52.277Z"
   },
   {
    "duration": 107,
    "start_time": "2024-07-09T11:37:52.375Z"
   },
   {
    "duration": 77,
    "start_time": "2024-07-09T11:37:52.483Z"
   },
   {
    "duration": 36,
    "start_time": "2024-07-09T11:37:52.562Z"
   },
   {
    "duration": 9,
    "start_time": "2024-07-09T11:37:52.602Z"
   },
   {
    "duration": 82,
    "start_time": "2024-07-09T11:37:52.612Z"
   },
   {
    "duration": 3,
    "start_time": "2024-07-09T11:37:52.696Z"
   },
   {
    "duration": 32,
    "start_time": "2024-07-09T11:37:52.700Z"
   },
   {
    "duration": 48,
    "start_time": "2024-07-09T11:37:52.733Z"
   },
   {
    "duration": 36,
    "start_time": "2024-07-09T11:37:52.782Z"
   },
   {
    "duration": 10,
    "start_time": "2024-07-09T11:37:52.820Z"
   },
   {
    "duration": 96945,
    "start_time": "2024-07-09T11:37:52.832Z"
   },
   {
    "duration": 14,
    "start_time": "2024-07-09T11:39:29.779Z"
   },
   {
    "duration": 373268,
    "start_time": "2024-07-09T11:39:29.794Z"
   },
   {
    "duration": 3,
    "start_time": "2024-07-09T11:45:43.064Z"
   },
   {
    "duration": 16,
    "start_time": "2024-07-09T11:45:43.069Z"
   },
   {
    "duration": 303530,
    "start_time": "2024-07-09T11:45:43.086Z"
   },
   {
    "duration": 4,
    "start_time": "2024-07-09T11:50:46.617Z"
   },
   {
    "duration": 24542,
    "start_time": "2024-07-09T11:50:46.623Z"
   },
   {
    "duration": 6,
    "start_time": "2024-07-09T11:51:11.167Z"
   },
   {
    "duration": 344878,
    "start_time": "2024-07-09T11:51:11.175Z"
   },
   {
    "duration": 9,
    "start_time": "2024-07-09T11:56:56.055Z"
   },
   {
    "duration": 18483,
    "start_time": "2024-07-09T11:56:56.065Z"
   },
   {
    "duration": 174,
    "start_time": "2024-07-09T11:57:14.550Z"
   },
   {
    "duration": 0,
    "start_time": "2024-07-09T11:57:14.725Z"
   },
   {
    "duration": 0,
    "start_time": "2024-07-09T11:57:14.726Z"
   },
   {
    "duration": 13,
    "start_time": "2024-07-09T11:57:38.661Z"
   },
   {
    "duration": 44,
    "start_time": "2024-07-09T11:57:47.229Z"
   },
   {
    "duration": 31,
    "start_time": "2024-07-09T11:59:48.575Z"
   },
   {
    "duration": 4,
    "start_time": "2024-07-09T12:01:57.349Z"
   },
   {
    "duration": 309318,
    "start_time": "2024-07-09T12:01:58.131Z"
   },
   {
    "duration": 4,
    "start_time": "2024-07-09T12:07:07.452Z"
   },
   {
    "duration": 24492,
    "start_time": "2024-07-09T12:07:07.457Z"
   },
   {
    "duration": 5,
    "start_time": "2024-07-09T12:07:31.952Z"
   },
   {
    "duration": 489101,
    "start_time": "2024-07-09T12:07:31.958Z"
   },
   {
    "duration": 9,
    "start_time": "2024-07-09T12:15:41.060Z"
   },
   {
    "duration": 18880,
    "start_time": "2024-07-09T12:15:41.070Z"
   },
   {
    "duration": 10,
    "start_time": "2024-07-09T12:15:59.951Z"
   },
   {
    "duration": 14,
    "start_time": "2024-07-09T12:16:52.701Z"
   },
   {
    "duration": 58,
    "start_time": "2024-07-09T12:17:27.935Z"
   },
   {
    "duration": 4,
    "start_time": "2024-07-09T12:17:28.286Z"
   },
   {
    "duration": 14275,
    "start_time": "2024-07-10T07:06:03.355Z"
   },
   {
    "duration": 1217,
    "start_time": "2024-07-10T07:06:17.632Z"
   },
   {
    "duration": 1080,
    "start_time": "2024-07-10T07:06:18.851Z"
   },
   {
    "duration": 107,
    "start_time": "2024-07-10T07:06:19.933Z"
   },
   {
    "duration": 140,
    "start_time": "2024-07-10T07:06:20.042Z"
   },
   {
    "duration": 91,
    "start_time": "2024-07-10T07:06:20.183Z"
   },
   {
    "duration": 292,
    "start_time": "2024-07-10T07:06:20.275Z"
   },
   {
    "duration": 221,
    "start_time": "2024-07-10T07:06:20.568Z"
   },
   {
    "duration": 472,
    "start_time": "2024-07-10T07:06:20.790Z"
   },
   {
    "duration": 1345,
    "start_time": "2024-07-10T07:06:21.263Z"
   },
   {
    "duration": 114,
    "start_time": "2024-07-10T07:06:22.609Z"
   },
   {
    "duration": 80,
    "start_time": "2024-07-10T07:06:22.725Z"
   },
   {
    "duration": 45,
    "start_time": "2024-07-10T07:06:22.806Z"
   },
   {
    "duration": 1698,
    "start_time": "2024-07-10T07:06:22.854Z"
   },
   {
    "duration": 33,
    "start_time": "2024-07-10T07:06:24.553Z"
   },
   {
    "duration": 19,
    "start_time": "2024-07-10T07:06:24.587Z"
   },
   {
    "duration": 19,
    "start_time": "2024-07-10T07:06:24.608Z"
   },
   {
    "duration": 1264,
    "start_time": "2024-07-10T07:06:24.628Z"
   },
   {
    "duration": 32,
    "start_time": "2024-07-10T07:06:25.893Z"
   },
   {
    "duration": 6,
    "start_time": "2024-07-10T07:06:25.926Z"
   },
   {
    "duration": 4431,
    "start_time": "2024-07-10T07:06:25.933Z"
   },
   {
    "duration": 14,
    "start_time": "2024-07-10T07:06:30.365Z"
   },
   {
    "duration": 3945,
    "start_time": "2024-07-10T07:06:30.381Z"
   },
   {
    "duration": 95,
    "start_time": "2024-07-10T07:06:34.327Z"
   },
   {
    "duration": 126,
    "start_time": "2024-07-10T07:06:34.423Z"
   },
   {
    "duration": 73,
    "start_time": "2024-07-10T07:06:34.551Z"
   },
   {
    "duration": 25,
    "start_time": "2024-07-10T07:06:34.626Z"
   },
   {
    "duration": 5,
    "start_time": "2024-07-10T07:06:34.653Z"
   },
   {
    "duration": 53,
    "start_time": "2024-07-10T07:06:34.671Z"
   },
   {
    "duration": 3,
    "start_time": "2024-07-10T07:06:34.725Z"
   },
   {
    "duration": 10,
    "start_time": "2024-07-10T07:06:34.729Z"
   },
   {
    "duration": 3,
    "start_time": "2024-07-10T07:06:34.740Z"
   },
   {
    "duration": 29,
    "start_time": "2024-07-10T07:06:34.744Z"
   },
   {
    "duration": 3,
    "start_time": "2024-07-10T07:06:34.774Z"
   },
   {
    "duration": 75061,
    "start_time": "2024-07-10T07:06:34.779Z"
   },
   {
    "duration": 15,
    "start_time": "2024-07-10T07:07:49.842Z"
   },
   {
    "duration": 13,
    "start_time": "2024-07-10T07:07:49.858Z"
   },
   {
    "duration": 2,
    "start_time": "2024-07-10T07:07:49.873Z"
   },
   {
    "duration": 4,
    "start_time": "2024-07-10T07:07:49.876Z"
   },
   {
    "duration": 4,
    "start_time": "2024-07-10T07:07:49.881Z"
   },
   {
    "duration": 297808,
    "start_time": "2024-07-10T07:07:49.889Z"
   },
   {
    "duration": 2,
    "start_time": "2024-07-10T07:12:47.698Z"
   },
   {
    "duration": 3,
    "start_time": "2024-07-10T07:12:47.701Z"
   },
   {
    "duration": 4,
    "start_time": "2024-07-10T07:12:47.705Z"
   },
   {
    "duration": 14,
    "start_time": "2024-07-10T07:12:47.710Z"
   },
   {
    "duration": 314856,
    "start_time": "2024-07-10T07:12:47.725Z"
   },
   {
    "duration": 12,
    "start_time": "2024-07-10T07:18:02.583Z"
   },
   {
    "duration": 10,
    "start_time": "2024-07-10T07:18:02.597Z"
   },
   {
    "duration": 9,
    "start_time": "2024-07-10T07:18:02.608Z"
   },
   {
    "duration": 153,
    "start_time": "2024-07-10T07:18:02.618Z"
   },
   {
    "duration": 0,
    "start_time": "2024-07-10T07:18:02.772Z"
   },
   {
    "duration": 0,
    "start_time": "2024-07-10T07:18:02.773Z"
   },
   {
    "duration": 0,
    "start_time": "2024-07-10T07:18:02.774Z"
   },
   {
    "duration": 12,
    "start_time": "2024-07-10T07:18:42.748Z"
   },
   {
    "duration": 11,
    "start_time": "2024-07-10T07:19:02.635Z"
   },
   {
    "duration": 7,
    "start_time": "2024-07-10T07:19:11.026Z"
   },
   {
    "duration": 6,
    "start_time": "2024-07-10T07:19:16.856Z"
   },
   {
    "duration": 11,
    "start_time": "2024-07-10T07:19:25.789Z"
   },
   {
    "duration": 4,
    "start_time": "2024-07-10T07:20:15.099Z"
   },
   {
    "duration": 10,
    "start_time": "2024-07-10T07:22:02.635Z"
   },
   {
    "duration": 11,
    "start_time": "2024-07-10T07:22:26.001Z"
   },
   {
    "duration": 3,
    "start_time": "2024-07-10T07:24:53.949Z"
   },
   {
    "duration": 3,
    "start_time": "2024-07-10T07:25:07.435Z"
   },
   {
    "duration": 10,
    "start_time": "2024-07-10T07:25:17.168Z"
   },
   {
    "duration": 12,
    "start_time": "2024-07-10T07:25:21.395Z"
   },
   {
    "duration": 11,
    "start_time": "2024-07-10T07:28:14.701Z"
   },
   {
    "duration": 10,
    "start_time": "2024-07-10T07:28:38.483Z"
   },
   {
    "duration": 55,
    "start_time": "2024-07-10T07:28:56.508Z"
   },
   {
    "duration": 13,
    "start_time": "2024-07-10T07:29:32.355Z"
   },
   {
    "duration": 63,
    "start_time": "2024-07-10T07:29:54.100Z"
   },
   {
    "duration": 20,
    "start_time": "2024-07-10T07:30:01.727Z"
   },
   {
    "duration": 17,
    "start_time": "2024-07-10T07:30:54.130Z"
   },
   {
    "duration": 17,
    "start_time": "2024-07-10T07:31:13.742Z"
   },
   {
    "duration": 13,
    "start_time": "2024-07-10T07:31:32.374Z"
   },
   {
    "duration": 14,
    "start_time": "2024-07-10T07:32:33.713Z"
   },
   {
    "duration": 3,
    "start_time": "2024-07-10T07:33:05.375Z"
   },
   {
    "duration": 3,
    "start_time": "2024-07-10T07:33:09.597Z"
   },
   {
    "duration": 10,
    "start_time": "2024-07-10T07:34:48.056Z"
   },
   {
    "duration": 17,
    "start_time": "2024-07-10T07:34:56.723Z"
   },
   {
    "duration": 13,
    "start_time": "2024-07-10T07:35:10.831Z"
   },
   {
    "duration": 73131,
    "start_time": "2024-07-10T07:37:13.340Z"
   },
   {
    "duration": 14,
    "start_time": "2024-07-10T07:38:26.473Z"
   },
   {
    "duration": 20,
    "start_time": "2024-07-10T07:38:26.488Z"
   },
   {
    "duration": 14,
    "start_time": "2024-07-10T07:38:38.246Z"
   },
   {
    "duration": 7,
    "start_time": "2024-07-10T07:39:00.167Z"
   },
   {
    "duration": 14,
    "start_time": "2024-07-10T07:39:33.559Z"
   },
   {
    "duration": 833,
    "start_time": "2024-07-10T07:40:56.072Z"
   },
   {
    "duration": 870,
    "start_time": "2024-07-10T07:41:31.205Z"
   },
   {
    "duration": 17,
    "start_time": "2024-07-10T07:42:11.724Z"
   },
   {
    "duration": 12,
    "start_time": "2024-07-10T07:42:58.091Z"
   },
   {
    "duration": 3,
    "start_time": "2024-07-10T07:43:30.782Z"
   },
   {
    "duration": 17,
    "start_time": "2024-07-10T07:43:37.373Z"
   },
   {
    "duration": 31,
    "start_time": "2024-07-10T07:44:05.629Z"
   },
   {
    "duration": 7,
    "start_time": "2024-07-10T07:44:16.420Z"
   },
   {
    "duration": 4,
    "start_time": "2024-07-10T07:44:48.266Z"
   },
   {
    "duration": 3,
    "start_time": "2024-07-10T07:45:52.607Z"
   },
   {
    "duration": 12,
    "start_time": "2024-07-10T07:45:53.801Z"
   },
   {
    "duration": 3,
    "start_time": "2024-07-10T07:45:54.165Z"
   },
   {
    "duration": 2,
    "start_time": "2024-07-10T07:45:55.275Z"
   },
   {
    "duration": 2,
    "start_time": "2024-07-10T07:45:55.817Z"
   },
   {
    "duration": 75867,
    "start_time": "2024-07-10T07:45:56.435Z"
   },
   {
    "duration": 15,
    "start_time": "2024-07-10T07:47:12.303Z"
   },
   {
    "duration": 12,
    "start_time": "2024-07-10T07:47:58.893Z"
   },
   {
    "duration": 60,
    "start_time": "2024-07-10T07:48:08.718Z"
   },
   {
    "duration": 4,
    "start_time": "2024-07-10T07:48:09.353Z"
   }
  ],
  "kernelspec": {
   "display_name": "Python 3 (ipykernel)",
   "language": "python",
   "name": "python3"
  },
  "language_info": {
   "codemirror_mode": {
    "name": "ipython",
    "version": 3
   },
   "file_extension": ".py",
   "mimetype": "text/x-python",
   "name": "python",
   "nbconvert_exporter": "python",
   "pygments_lexer": "ipython3",
   "version": "3.13.5"
  },
  "toc": {
   "base_numbering": 1,
   "nav_menu": {},
   "number_sections": true,
   "sideBar": true,
   "skip_h1_title": true,
   "title_cell": "Table of Contents",
   "title_sidebar": "Contents",
   "toc_cell": false,
   "toc_position": {},
   "toc_section_display": true,
   "toc_window_display": false
  }
 },
 "nbformat": 4,
 "nbformat_minor": 4
}
